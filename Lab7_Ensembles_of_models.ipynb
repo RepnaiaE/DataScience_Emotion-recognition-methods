{
  "cells": [
    {
      "cell_type": "markdown",
      "metadata": {
        "id": "view-in-github",
        "colab_type": "text"
      },
      "source": [
        "<a href=\"https://colab.research.google.com/github/RepnaiaE/DataScience_Emotion-recognition-methods/blob/main/Lab7_Ensembles_of_models.ipynb\" target=\"_parent\"><img src=\"https://colab.research.google.com/assets/colab-badge.svg\" alt=\"Open In Colab\"/></a>"
      ]
    },
    {
      "cell_type": "markdown",
      "source": [
        "# Ансамбли моделей/Ensembles of models"
      ],
      "metadata": {
        "id": "-xklaU6908yn"
      },
      "id": "-xklaU6908yn"
    },
    {
      "cell_type": "code",
      "source": [
        "from google.colab import drive\n",
        "drive.mount('/content/drive')"
      ],
      "metadata": {
        "colab": {
          "base_uri": "https://localhost:8080/"
        },
        "id": "tgLcAlOOTCmy",
        "outputId": "f4362fe4-a3b2-4892-a096-a476098e64bf"
      },
      "id": "tgLcAlOOTCmy",
      "execution_count": null,
      "outputs": [
        {
          "output_type": "stream",
          "name": "stdout",
          "text": [
            "Mounted at /content/drive\n"
          ]
        }
      ]
    },
    {
      "cell_type": "markdown",
      "id": "ed53763a",
      "metadata": {
        "id": "ed53763a"
      },
      "source": [
        "# Загрузка данных/Loading Data"
      ]
    },
    {
      "cell_type": "markdown",
      "id": "8fe2fbf6",
      "metadata": {
        "id": "8fe2fbf6"
      },
      "source": [
        "Загружаем данные из ячеек в массивы признаков для каждого набора из предыдущей работы"
      ]
    },
    {
      "cell_type": "code",
      "execution_count": null,
      "id": "1949ed17",
      "metadata": {
        "scrolled": true,
        "id": "1949ed17",
        "outputId": "e8046cae-3e25-4b08-b421-913a78274c9d",
        "colab": {
          "base_uri": "https://localhost:8080/"
        }
      },
      "outputs": [
        {
          "output_type": "execute_result",
          "data": {
            "text/plain": [
              "                   id       tdate            tname  \\\n",
              "0  408906762813579264  1386325944  dugarchikbellko   \n",
              "1  408906818262687744  1386325957     nugemycejela   \n",
              "2  408906858515398656  1386325966          4post21   \n",
              "3  408906914437685248  1386325980         Poliwake   \n",
              "4  408906914723295232  1386325980       capyvixowe   \n",
              "\n",
              "                                               ttext  ttype  trep  trtv  tfav  \\\n",
              "0  на работе был полный пиддес :| и так каждое за...     -1     0     0     0   \n",
              "1  Коллеги сидят рубятся в Urban terror, а я из-з...     -1     0     0     0   \n",
              "2  @elina_4post как говорят обещаного три года жд...     -1     0     0     0   \n",
              "3  Желаю хорошего полёта и удачной посадки,я буду...     -1     0     0     0   \n",
              "4  Обновил за каким-то лешим surf, теперь не рабо...     -1     0     0     0   \n",
              "\n",
              "   tstcount  tfol  tfrien  listcount  \n",
              "0      8064   111      94          2  \n",
              "1        26    42      39          0  \n",
              "2       718    49     249          0  \n",
              "3     10628   207     200          0  \n",
              "4        35    17      34          0  "
            ],
            "text/html": [
              "\n",
              "  <div id=\"df-000f3813-9911-407b-9229-ddb3ce80d529\">\n",
              "    <div class=\"colab-df-container\">\n",
              "      <div>\n",
              "<style scoped>\n",
              "    .dataframe tbody tr th:only-of-type {\n",
              "        vertical-align: middle;\n",
              "    }\n",
              "\n",
              "    .dataframe tbody tr th {\n",
              "        vertical-align: top;\n",
              "    }\n",
              "\n",
              "    .dataframe thead th {\n",
              "        text-align: right;\n",
              "    }\n",
              "</style>\n",
              "<table border=\"1\" class=\"dataframe\">\n",
              "  <thead>\n",
              "    <tr style=\"text-align: right;\">\n",
              "      <th></th>\n",
              "      <th>id</th>\n",
              "      <th>tdate</th>\n",
              "      <th>tname</th>\n",
              "      <th>ttext</th>\n",
              "      <th>ttype</th>\n",
              "      <th>trep</th>\n",
              "      <th>trtv</th>\n",
              "      <th>tfav</th>\n",
              "      <th>tstcount</th>\n",
              "      <th>tfol</th>\n",
              "      <th>tfrien</th>\n",
              "      <th>listcount</th>\n",
              "    </tr>\n",
              "  </thead>\n",
              "  <tbody>\n",
              "    <tr>\n",
              "      <th>0</th>\n",
              "      <td>408906762813579264</td>\n",
              "      <td>1386325944</td>\n",
              "      <td>dugarchikbellko</td>\n",
              "      <td>на работе был полный пиддес :| и так каждое за...</td>\n",
              "      <td>-1</td>\n",
              "      <td>0</td>\n",
              "      <td>0</td>\n",
              "      <td>0</td>\n",
              "      <td>8064</td>\n",
              "      <td>111</td>\n",
              "      <td>94</td>\n",
              "      <td>2</td>\n",
              "    </tr>\n",
              "    <tr>\n",
              "      <th>1</th>\n",
              "      <td>408906818262687744</td>\n",
              "      <td>1386325957</td>\n",
              "      <td>nugemycejela</td>\n",
              "      <td>Коллеги сидят рубятся в Urban terror, а я из-з...</td>\n",
              "      <td>-1</td>\n",
              "      <td>0</td>\n",
              "      <td>0</td>\n",
              "      <td>0</td>\n",
              "      <td>26</td>\n",
              "      <td>42</td>\n",
              "      <td>39</td>\n",
              "      <td>0</td>\n",
              "    </tr>\n",
              "    <tr>\n",
              "      <th>2</th>\n",
              "      <td>408906858515398656</td>\n",
              "      <td>1386325966</td>\n",
              "      <td>4post21</td>\n",
              "      <td>@elina_4post как говорят обещаного три года жд...</td>\n",
              "      <td>-1</td>\n",
              "      <td>0</td>\n",
              "      <td>0</td>\n",
              "      <td>0</td>\n",
              "      <td>718</td>\n",
              "      <td>49</td>\n",
              "      <td>249</td>\n",
              "      <td>0</td>\n",
              "    </tr>\n",
              "    <tr>\n",
              "      <th>3</th>\n",
              "      <td>408906914437685248</td>\n",
              "      <td>1386325980</td>\n",
              "      <td>Poliwake</td>\n",
              "      <td>Желаю хорошего полёта и удачной посадки,я буду...</td>\n",
              "      <td>-1</td>\n",
              "      <td>0</td>\n",
              "      <td>0</td>\n",
              "      <td>0</td>\n",
              "      <td>10628</td>\n",
              "      <td>207</td>\n",
              "      <td>200</td>\n",
              "      <td>0</td>\n",
              "    </tr>\n",
              "    <tr>\n",
              "      <th>4</th>\n",
              "      <td>408906914723295232</td>\n",
              "      <td>1386325980</td>\n",
              "      <td>capyvixowe</td>\n",
              "      <td>Обновил за каким-то лешим surf, теперь не рабо...</td>\n",
              "      <td>-1</td>\n",
              "      <td>0</td>\n",
              "      <td>0</td>\n",
              "      <td>0</td>\n",
              "      <td>35</td>\n",
              "      <td>17</td>\n",
              "      <td>34</td>\n",
              "      <td>0</td>\n",
              "    </tr>\n",
              "  </tbody>\n",
              "</table>\n",
              "</div>\n",
              "      <button class=\"colab-df-convert\" onclick=\"convertToInteractive('df-000f3813-9911-407b-9229-ddb3ce80d529')\"\n",
              "              title=\"Convert this dataframe to an interactive table.\"\n",
              "              style=\"display:none;\">\n",
              "        \n",
              "  <svg xmlns=\"http://www.w3.org/2000/svg\" height=\"24px\"viewBox=\"0 0 24 24\"\n",
              "       width=\"24px\">\n",
              "    <path d=\"M0 0h24v24H0V0z\" fill=\"none\"/>\n",
              "    <path d=\"M18.56 5.44l.94 2.06.94-2.06 2.06-.94-2.06-.94-.94-2.06-.94 2.06-2.06.94zm-11 1L8.5 8.5l.94-2.06 2.06-.94-2.06-.94L8.5 2.5l-.94 2.06-2.06.94zm10 10l.94 2.06.94-2.06 2.06-.94-2.06-.94-.94-2.06-.94 2.06-2.06.94z\"/><path d=\"M17.41 7.96l-1.37-1.37c-.4-.4-.92-.59-1.43-.59-.52 0-1.04.2-1.43.59L10.3 9.45l-7.72 7.72c-.78.78-.78 2.05 0 2.83L4 21.41c.39.39.9.59 1.41.59.51 0 1.02-.2 1.41-.59l7.78-7.78 2.81-2.81c.8-.78.8-2.07 0-2.86zM5.41 20L4 18.59l7.72-7.72 1.47 1.35L5.41 20z\"/>\n",
              "  </svg>\n",
              "      </button>\n",
              "      \n",
              "  <style>\n",
              "    .colab-df-container {\n",
              "      display:flex;\n",
              "      flex-wrap:wrap;\n",
              "      gap: 12px;\n",
              "    }\n",
              "\n",
              "    .colab-df-convert {\n",
              "      background-color: #E8F0FE;\n",
              "      border: none;\n",
              "      border-radius: 50%;\n",
              "      cursor: pointer;\n",
              "      display: none;\n",
              "      fill: #1967D2;\n",
              "      height: 32px;\n",
              "      padding: 0 0 0 0;\n",
              "      width: 32px;\n",
              "    }\n",
              "\n",
              "    .colab-df-convert:hover {\n",
              "      background-color: #E2EBFA;\n",
              "      box-shadow: 0px 1px 2px rgba(60, 64, 67, 0.3), 0px 1px 3px 1px rgba(60, 64, 67, 0.15);\n",
              "      fill: #174EA6;\n",
              "    }\n",
              "\n",
              "    [theme=dark] .colab-df-convert {\n",
              "      background-color: #3B4455;\n",
              "      fill: #D2E3FC;\n",
              "    }\n",
              "\n",
              "    [theme=dark] .colab-df-convert:hover {\n",
              "      background-color: #434B5C;\n",
              "      box-shadow: 0px 1px 3px 1px rgba(0, 0, 0, 0.15);\n",
              "      filter: drop-shadow(0px 1px 2px rgba(0, 0, 0, 0.3));\n",
              "      fill: #FFFFFF;\n",
              "    }\n",
              "  </style>\n",
              "\n",
              "      <script>\n",
              "        const buttonEl =\n",
              "          document.querySelector('#df-000f3813-9911-407b-9229-ddb3ce80d529 button.colab-df-convert');\n",
              "        buttonEl.style.display =\n",
              "          google.colab.kernel.accessAllowed ? 'block' : 'none';\n",
              "\n",
              "        async function convertToInteractive(key) {\n",
              "          const element = document.querySelector('#df-000f3813-9911-407b-9229-ddb3ce80d529');\n",
              "          const dataTable =\n",
              "            await google.colab.kernel.invokeFunction('convertToInteractive',\n",
              "                                                     [key], {});\n",
              "          if (!dataTable) return;\n",
              "\n",
              "          const docLinkHtml = 'Like what you see? Visit the ' +\n",
              "            '<a target=\"_blank\" href=https://colab.research.google.com/notebooks/data_table.ipynb>data table notebook</a>'\n",
              "            + ' to learn more about interactive tables.';\n",
              "          element.innerHTML = '';\n",
              "          dataTable['output_type'] = 'display_data';\n",
              "          await google.colab.output.renderOutput(dataTable, element);\n",
              "          const docLink = document.createElement('div');\n",
              "          docLink.innerHTML = docLinkHtml;\n",
              "          element.appendChild(docLink);\n",
              "        }\n",
              "      </script>\n",
              "    </div>\n",
              "  </div>\n",
              "  "
            ]
          },
          "metadata": {},
          "execution_count": 33
        }
      ],
      "source": [
        "import pandas as pd\n",
        "\n",
        "negative = pd.read_csv('/content/drive/MyDrive/Распознавание эмоций/negative.csv', sep=';',\n",
        "                       names=['id', 'tdate', 'tname', 'ttext', 'ttype', 'trep', 'trtv',\n",
        "                              'tfav', 'tstcount', 'tfol', 'tfrien', 'listcount'])\n",
        "negative.head()"
      ]
    },
    {
      "cell_type": "code",
      "execution_count": null,
      "id": "09a4bbd9",
      "metadata": {
        "scrolled": true,
        "id": "09a4bbd9",
        "outputId": "2874193e-ea5a-4d56-fee4-a6c03c6e38eb",
        "colab": {
          "base_uri": "https://localhost:8080/"
        }
      },
      "outputs": [
        {
          "output_type": "execute_result",
          "data": {
            "text/plain": [
              "                   id       tdate            tname  \\\n",
              "0  408906692374446080  1386325927  pleease_shut_up   \n",
              "1  408906692693221377  1386325927  alinakirpicheva   \n",
              "2  408906695083954177  1386325927        EvgeshaRe   \n",
              "3  408906695356973056  1386325927    ikonnikova_21   \n",
              "4  408906761416867842  1386325943        JumpyAlex   \n",
              "\n",
              "                                               ttext  ttype  trep  trtv  tfav  \\\n",
              "0  @first_timee хоть я и школота, но поверь, у на...      1     0     0     0   \n",
              "1  Да, все-таки он немного похож на него. Но мой ...      1     0     0     0   \n",
              "2  RT @KatiaCheh: Ну ты идиотка) я испугалась за ...      1     0     1     0   \n",
              "3  RT @digger2912: \"Кто то в углу сидит и погибае...      1     0     1     0   \n",
              "4  @irina_dyshkant Вот что значит страшилка :D\\nН...      1     0     0     0   \n",
              "\n",
              "   tstcount  tfol  tfrien  listcount  \n",
              "0      7569    62      61          0  \n",
              "1     11825    59      31          2  \n",
              "2      1273    26      27          0  \n",
              "3      1549    19      17          0  \n",
              "4       597    16      23          1  "
            ],
            "text/html": [
              "\n",
              "  <div id=\"df-4c4d761c-1fa2-47ac-a447-92bcd457421d\">\n",
              "    <div class=\"colab-df-container\">\n",
              "      <div>\n",
              "<style scoped>\n",
              "    .dataframe tbody tr th:only-of-type {\n",
              "        vertical-align: middle;\n",
              "    }\n",
              "\n",
              "    .dataframe tbody tr th {\n",
              "        vertical-align: top;\n",
              "    }\n",
              "\n",
              "    .dataframe thead th {\n",
              "        text-align: right;\n",
              "    }\n",
              "</style>\n",
              "<table border=\"1\" class=\"dataframe\">\n",
              "  <thead>\n",
              "    <tr style=\"text-align: right;\">\n",
              "      <th></th>\n",
              "      <th>id</th>\n",
              "      <th>tdate</th>\n",
              "      <th>tname</th>\n",
              "      <th>ttext</th>\n",
              "      <th>ttype</th>\n",
              "      <th>trep</th>\n",
              "      <th>trtv</th>\n",
              "      <th>tfav</th>\n",
              "      <th>tstcount</th>\n",
              "      <th>tfol</th>\n",
              "      <th>tfrien</th>\n",
              "      <th>listcount</th>\n",
              "    </tr>\n",
              "  </thead>\n",
              "  <tbody>\n",
              "    <tr>\n",
              "      <th>0</th>\n",
              "      <td>408906692374446080</td>\n",
              "      <td>1386325927</td>\n",
              "      <td>pleease_shut_up</td>\n",
              "      <td>@first_timee хоть я и школота, но поверь, у на...</td>\n",
              "      <td>1</td>\n",
              "      <td>0</td>\n",
              "      <td>0</td>\n",
              "      <td>0</td>\n",
              "      <td>7569</td>\n",
              "      <td>62</td>\n",
              "      <td>61</td>\n",
              "      <td>0</td>\n",
              "    </tr>\n",
              "    <tr>\n",
              "      <th>1</th>\n",
              "      <td>408906692693221377</td>\n",
              "      <td>1386325927</td>\n",
              "      <td>alinakirpicheva</td>\n",
              "      <td>Да, все-таки он немного похож на него. Но мой ...</td>\n",
              "      <td>1</td>\n",
              "      <td>0</td>\n",
              "      <td>0</td>\n",
              "      <td>0</td>\n",
              "      <td>11825</td>\n",
              "      <td>59</td>\n",
              "      <td>31</td>\n",
              "      <td>2</td>\n",
              "    </tr>\n",
              "    <tr>\n",
              "      <th>2</th>\n",
              "      <td>408906695083954177</td>\n",
              "      <td>1386325927</td>\n",
              "      <td>EvgeshaRe</td>\n",
              "      <td>RT @KatiaCheh: Ну ты идиотка) я испугалась за ...</td>\n",
              "      <td>1</td>\n",
              "      <td>0</td>\n",
              "      <td>1</td>\n",
              "      <td>0</td>\n",
              "      <td>1273</td>\n",
              "      <td>26</td>\n",
              "      <td>27</td>\n",
              "      <td>0</td>\n",
              "    </tr>\n",
              "    <tr>\n",
              "      <th>3</th>\n",
              "      <td>408906695356973056</td>\n",
              "      <td>1386325927</td>\n",
              "      <td>ikonnikova_21</td>\n",
              "      <td>RT @digger2912: \"Кто то в углу сидит и погибае...</td>\n",
              "      <td>1</td>\n",
              "      <td>0</td>\n",
              "      <td>1</td>\n",
              "      <td>0</td>\n",
              "      <td>1549</td>\n",
              "      <td>19</td>\n",
              "      <td>17</td>\n",
              "      <td>0</td>\n",
              "    </tr>\n",
              "    <tr>\n",
              "      <th>4</th>\n",
              "      <td>408906761416867842</td>\n",
              "      <td>1386325943</td>\n",
              "      <td>JumpyAlex</td>\n",
              "      <td>@irina_dyshkant Вот что значит страшилка :D\\nН...</td>\n",
              "      <td>1</td>\n",
              "      <td>0</td>\n",
              "      <td>0</td>\n",
              "      <td>0</td>\n",
              "      <td>597</td>\n",
              "      <td>16</td>\n",
              "      <td>23</td>\n",
              "      <td>1</td>\n",
              "    </tr>\n",
              "  </tbody>\n",
              "</table>\n",
              "</div>\n",
              "      <button class=\"colab-df-convert\" onclick=\"convertToInteractive('df-4c4d761c-1fa2-47ac-a447-92bcd457421d')\"\n",
              "              title=\"Convert this dataframe to an interactive table.\"\n",
              "              style=\"display:none;\">\n",
              "        \n",
              "  <svg xmlns=\"http://www.w3.org/2000/svg\" height=\"24px\"viewBox=\"0 0 24 24\"\n",
              "       width=\"24px\">\n",
              "    <path d=\"M0 0h24v24H0V0z\" fill=\"none\"/>\n",
              "    <path d=\"M18.56 5.44l.94 2.06.94-2.06 2.06-.94-2.06-.94-.94-2.06-.94 2.06-2.06.94zm-11 1L8.5 8.5l.94-2.06 2.06-.94-2.06-.94L8.5 2.5l-.94 2.06-2.06.94zm10 10l.94 2.06.94-2.06 2.06-.94-2.06-.94-.94-2.06-.94 2.06-2.06.94z\"/><path d=\"M17.41 7.96l-1.37-1.37c-.4-.4-.92-.59-1.43-.59-.52 0-1.04.2-1.43.59L10.3 9.45l-7.72 7.72c-.78.78-.78 2.05 0 2.83L4 21.41c.39.39.9.59 1.41.59.51 0 1.02-.2 1.41-.59l7.78-7.78 2.81-2.81c.8-.78.8-2.07 0-2.86zM5.41 20L4 18.59l7.72-7.72 1.47 1.35L5.41 20z\"/>\n",
              "  </svg>\n",
              "      </button>\n",
              "      \n",
              "  <style>\n",
              "    .colab-df-container {\n",
              "      display:flex;\n",
              "      flex-wrap:wrap;\n",
              "      gap: 12px;\n",
              "    }\n",
              "\n",
              "    .colab-df-convert {\n",
              "      background-color: #E8F0FE;\n",
              "      border: none;\n",
              "      border-radius: 50%;\n",
              "      cursor: pointer;\n",
              "      display: none;\n",
              "      fill: #1967D2;\n",
              "      height: 32px;\n",
              "      padding: 0 0 0 0;\n",
              "      width: 32px;\n",
              "    }\n",
              "\n",
              "    .colab-df-convert:hover {\n",
              "      background-color: #E2EBFA;\n",
              "      box-shadow: 0px 1px 2px rgba(60, 64, 67, 0.3), 0px 1px 3px 1px rgba(60, 64, 67, 0.15);\n",
              "      fill: #174EA6;\n",
              "    }\n",
              "\n",
              "    [theme=dark] .colab-df-convert {\n",
              "      background-color: #3B4455;\n",
              "      fill: #D2E3FC;\n",
              "    }\n",
              "\n",
              "    [theme=dark] .colab-df-convert:hover {\n",
              "      background-color: #434B5C;\n",
              "      box-shadow: 0px 1px 3px 1px rgba(0, 0, 0, 0.15);\n",
              "      filter: drop-shadow(0px 1px 2px rgba(0, 0, 0, 0.3));\n",
              "      fill: #FFFFFF;\n",
              "    }\n",
              "  </style>\n",
              "\n",
              "      <script>\n",
              "        const buttonEl =\n",
              "          document.querySelector('#df-4c4d761c-1fa2-47ac-a447-92bcd457421d button.colab-df-convert');\n",
              "        buttonEl.style.display =\n",
              "          google.colab.kernel.accessAllowed ? 'block' : 'none';\n",
              "\n",
              "        async function convertToInteractive(key) {\n",
              "          const element = document.querySelector('#df-4c4d761c-1fa2-47ac-a447-92bcd457421d');\n",
              "          const dataTable =\n",
              "            await google.colab.kernel.invokeFunction('convertToInteractive',\n",
              "                                                     [key], {});\n",
              "          if (!dataTable) return;\n",
              "\n",
              "          const docLinkHtml = 'Like what you see? Visit the ' +\n",
              "            '<a target=\"_blank\" href=https://colab.research.google.com/notebooks/data_table.ipynb>data table notebook</a>'\n",
              "            + ' to learn more about interactive tables.';\n",
              "          element.innerHTML = '';\n",
              "          dataTable['output_type'] = 'display_data';\n",
              "          await google.colab.output.renderOutput(dataTable, element);\n",
              "          const docLink = document.createElement('div');\n",
              "          docLink.innerHTML = docLinkHtml;\n",
              "          element.appendChild(docLink);\n",
              "        }\n",
              "      </script>\n",
              "    </div>\n",
              "  </div>\n",
              "  "
            ]
          },
          "metadata": {},
          "execution_count": 34
        }
      ],
      "source": [
        "positive = pd.read_csv('/content/drive/MyDrive/Распознавание эмоций/positive.csv', sep=';',\n",
        "                       names=['id', 'tdate', 'tname', 'ttext', 'ttype', 'trep', 'trtv',\n",
        "                              'tfav', 'tstcount', 'tfol', 'tfrien', 'listcount'])\n",
        "positive.head()"
      ]
    },
    {
      "cell_type": "code",
      "execution_count": null,
      "id": "5fa838d3",
      "metadata": {
        "scrolled": true,
        "id": "5fa838d3",
        "outputId": "d306717f-1b4a-4c66-873a-1502efe69326",
        "colab": {
          "base_uri": "https://localhost:8080/"
        }
      },
      "outputs": [
        {
          "output_type": "execute_result",
          "data": {
            "text/plain": [
              "                       id       tdate            tname  \\\n",
              "0      408906692374446080  1386325927  pleease_shut_up   \n",
              "1      408906692693221377  1386325927  alinakirpicheva   \n",
              "2      408906695083954177  1386325927        EvgeshaRe   \n",
              "3      408906695356973056  1386325927    ikonnikova_21   \n",
              "4      408906761416867842  1386325943        JumpyAlex   \n",
              "...                   ...         ...              ...   \n",
              "14995  411052214937874432  1386837459       nataliyatm   \n",
              "14996  411052217857474560  1386837460       vynujapyzm   \n",
              "14997  411052251843936256  1386837468     gubapikahacu   \n",
              "14998  411052507985879040  1386837529         cyberr98   \n",
              "14999  411052560493989888  1386837542      OtgonbayarT   \n",
              "\n",
              "                                                   ttext  ttype  trep  trtv  \\\n",
              "0      @first_timee хоть я и школота, но поверь, у на...      1     0     0   \n",
              "1      Да, все-таки он немного похож на него. Но мой ...      1     0     0   \n",
              "2      RT @KatiaCheh: Ну ты идиотка) я испугалась за ...      1     0     1   \n",
              "3      RT @digger2912: \"Кто то в углу сидит и погибае...      1     0     1   \n",
              "4      @irina_dyshkant Вот что значит страшилка :D\\nН...      1     0     0   \n",
              "...                                                  ...    ...   ...   ...   \n",
              "14995  @kosaya_lisa я бы была рада морозу больше, чем...      0     0     0   \n",
              "14996  Мне противно смотреть на логи нашего провайдер...      0     0     0   \n",
              "14997  RT @fupefodicita: \"Большинство россиян по-преж...      0     0     1   \n",
              "14998  @Yulia_Demchuk @Leno_ok1998 давайте в школу мн...      0     0     0   \n",
              "14999  RT @bmongol: #БодлынТэмдэглэл номд урам хайрла...      0     0     2   \n",
              "\n",
              "       tfav  tstcount   tfol  tfrien  listcount  \n",
              "0         0      7569     62      61          0  \n",
              "1         0     11825     59      31          2  \n",
              "2         0      1273     26      27          0  \n",
              "3         0      1549     19      17          0  \n",
              "4         0       597     16      23          1  \n",
              "...     ...       ...    ...     ...        ...  \n",
              "14995     0      7886     62     100          0  \n",
              "14996     0       281    264     256          0  \n",
              "14997     0       853    273     257          0  \n",
              "14998     0       678     54      38          0  \n",
              "14999     0     20477  12762    1962         38  \n",
              "\n",
              "[30000 rows x 12 columns]"
            ],
            "text/html": [
              "\n",
              "  <div id=\"df-1ac6b8f2-748c-409c-b1ea-dd1b65a15a7d\">\n",
              "    <div class=\"colab-df-container\">\n",
              "      <div>\n",
              "<style scoped>\n",
              "    .dataframe tbody tr th:only-of-type {\n",
              "        vertical-align: middle;\n",
              "    }\n",
              "\n",
              "    .dataframe tbody tr th {\n",
              "        vertical-align: top;\n",
              "    }\n",
              "\n",
              "    .dataframe thead th {\n",
              "        text-align: right;\n",
              "    }\n",
              "</style>\n",
              "<table border=\"1\" class=\"dataframe\">\n",
              "  <thead>\n",
              "    <tr style=\"text-align: right;\">\n",
              "      <th></th>\n",
              "      <th>id</th>\n",
              "      <th>tdate</th>\n",
              "      <th>tname</th>\n",
              "      <th>ttext</th>\n",
              "      <th>ttype</th>\n",
              "      <th>trep</th>\n",
              "      <th>trtv</th>\n",
              "      <th>tfav</th>\n",
              "      <th>tstcount</th>\n",
              "      <th>tfol</th>\n",
              "      <th>tfrien</th>\n",
              "      <th>listcount</th>\n",
              "    </tr>\n",
              "  </thead>\n",
              "  <tbody>\n",
              "    <tr>\n",
              "      <th>0</th>\n",
              "      <td>408906692374446080</td>\n",
              "      <td>1386325927</td>\n",
              "      <td>pleease_shut_up</td>\n",
              "      <td>@first_timee хоть я и школота, но поверь, у на...</td>\n",
              "      <td>1</td>\n",
              "      <td>0</td>\n",
              "      <td>0</td>\n",
              "      <td>0</td>\n",
              "      <td>7569</td>\n",
              "      <td>62</td>\n",
              "      <td>61</td>\n",
              "      <td>0</td>\n",
              "    </tr>\n",
              "    <tr>\n",
              "      <th>1</th>\n",
              "      <td>408906692693221377</td>\n",
              "      <td>1386325927</td>\n",
              "      <td>alinakirpicheva</td>\n",
              "      <td>Да, все-таки он немного похож на него. Но мой ...</td>\n",
              "      <td>1</td>\n",
              "      <td>0</td>\n",
              "      <td>0</td>\n",
              "      <td>0</td>\n",
              "      <td>11825</td>\n",
              "      <td>59</td>\n",
              "      <td>31</td>\n",
              "      <td>2</td>\n",
              "    </tr>\n",
              "    <tr>\n",
              "      <th>2</th>\n",
              "      <td>408906695083954177</td>\n",
              "      <td>1386325927</td>\n",
              "      <td>EvgeshaRe</td>\n",
              "      <td>RT @KatiaCheh: Ну ты идиотка) я испугалась за ...</td>\n",
              "      <td>1</td>\n",
              "      <td>0</td>\n",
              "      <td>1</td>\n",
              "      <td>0</td>\n",
              "      <td>1273</td>\n",
              "      <td>26</td>\n",
              "      <td>27</td>\n",
              "      <td>0</td>\n",
              "    </tr>\n",
              "    <tr>\n",
              "      <th>3</th>\n",
              "      <td>408906695356973056</td>\n",
              "      <td>1386325927</td>\n",
              "      <td>ikonnikova_21</td>\n",
              "      <td>RT @digger2912: \"Кто то в углу сидит и погибае...</td>\n",
              "      <td>1</td>\n",
              "      <td>0</td>\n",
              "      <td>1</td>\n",
              "      <td>0</td>\n",
              "      <td>1549</td>\n",
              "      <td>19</td>\n",
              "      <td>17</td>\n",
              "      <td>0</td>\n",
              "    </tr>\n",
              "    <tr>\n",
              "      <th>4</th>\n",
              "      <td>408906761416867842</td>\n",
              "      <td>1386325943</td>\n",
              "      <td>JumpyAlex</td>\n",
              "      <td>@irina_dyshkant Вот что значит страшилка :D\\nН...</td>\n",
              "      <td>1</td>\n",
              "      <td>0</td>\n",
              "      <td>0</td>\n",
              "      <td>0</td>\n",
              "      <td>597</td>\n",
              "      <td>16</td>\n",
              "      <td>23</td>\n",
              "      <td>1</td>\n",
              "    </tr>\n",
              "    <tr>\n",
              "      <th>...</th>\n",
              "      <td>...</td>\n",
              "      <td>...</td>\n",
              "      <td>...</td>\n",
              "      <td>...</td>\n",
              "      <td>...</td>\n",
              "      <td>...</td>\n",
              "      <td>...</td>\n",
              "      <td>...</td>\n",
              "      <td>...</td>\n",
              "      <td>...</td>\n",
              "      <td>...</td>\n",
              "      <td>...</td>\n",
              "    </tr>\n",
              "    <tr>\n",
              "      <th>14995</th>\n",
              "      <td>411052214937874432</td>\n",
              "      <td>1386837459</td>\n",
              "      <td>nataliyatm</td>\n",
              "      <td>@kosaya_lisa я бы была рада морозу больше, чем...</td>\n",
              "      <td>0</td>\n",
              "      <td>0</td>\n",
              "      <td>0</td>\n",
              "      <td>0</td>\n",
              "      <td>7886</td>\n",
              "      <td>62</td>\n",
              "      <td>100</td>\n",
              "      <td>0</td>\n",
              "    </tr>\n",
              "    <tr>\n",
              "      <th>14996</th>\n",
              "      <td>411052217857474560</td>\n",
              "      <td>1386837460</td>\n",
              "      <td>vynujapyzm</td>\n",
              "      <td>Мне противно смотреть на логи нашего провайдер...</td>\n",
              "      <td>0</td>\n",
              "      <td>0</td>\n",
              "      <td>0</td>\n",
              "      <td>0</td>\n",
              "      <td>281</td>\n",
              "      <td>264</td>\n",
              "      <td>256</td>\n",
              "      <td>0</td>\n",
              "    </tr>\n",
              "    <tr>\n",
              "      <th>14997</th>\n",
              "      <td>411052251843936256</td>\n",
              "      <td>1386837468</td>\n",
              "      <td>gubapikahacu</td>\n",
              "      <td>RT @fupefodicita: \"Большинство россиян по-преж...</td>\n",
              "      <td>0</td>\n",
              "      <td>0</td>\n",
              "      <td>1</td>\n",
              "      <td>0</td>\n",
              "      <td>853</td>\n",
              "      <td>273</td>\n",
              "      <td>257</td>\n",
              "      <td>0</td>\n",
              "    </tr>\n",
              "    <tr>\n",
              "      <th>14998</th>\n",
              "      <td>411052507985879040</td>\n",
              "      <td>1386837529</td>\n",
              "      <td>cyberr98</td>\n",
              "      <td>@Yulia_Demchuk @Leno_ok1998 давайте в школу мн...</td>\n",
              "      <td>0</td>\n",
              "      <td>0</td>\n",
              "      <td>0</td>\n",
              "      <td>0</td>\n",
              "      <td>678</td>\n",
              "      <td>54</td>\n",
              "      <td>38</td>\n",
              "      <td>0</td>\n",
              "    </tr>\n",
              "    <tr>\n",
              "      <th>14999</th>\n",
              "      <td>411052560493989888</td>\n",
              "      <td>1386837542</td>\n",
              "      <td>OtgonbayarT</td>\n",
              "      <td>RT @bmongol: #БодлынТэмдэглэл номд урам хайрла...</td>\n",
              "      <td>0</td>\n",
              "      <td>0</td>\n",
              "      <td>2</td>\n",
              "      <td>0</td>\n",
              "      <td>20477</td>\n",
              "      <td>12762</td>\n",
              "      <td>1962</td>\n",
              "      <td>38</td>\n",
              "    </tr>\n",
              "  </tbody>\n",
              "</table>\n",
              "<p>30000 rows × 12 columns</p>\n",
              "</div>\n",
              "      <button class=\"colab-df-convert\" onclick=\"convertToInteractive('df-1ac6b8f2-748c-409c-b1ea-dd1b65a15a7d')\"\n",
              "              title=\"Convert this dataframe to an interactive table.\"\n",
              "              style=\"display:none;\">\n",
              "        \n",
              "  <svg xmlns=\"http://www.w3.org/2000/svg\" height=\"24px\"viewBox=\"0 0 24 24\"\n",
              "       width=\"24px\">\n",
              "    <path d=\"M0 0h24v24H0V0z\" fill=\"none\"/>\n",
              "    <path d=\"M18.56 5.44l.94 2.06.94-2.06 2.06-.94-2.06-.94-.94-2.06-.94 2.06-2.06.94zm-11 1L8.5 8.5l.94-2.06 2.06-.94-2.06-.94L8.5 2.5l-.94 2.06-2.06.94zm10 10l.94 2.06.94-2.06 2.06-.94-2.06-.94-.94-2.06-.94 2.06-2.06.94z\"/><path d=\"M17.41 7.96l-1.37-1.37c-.4-.4-.92-.59-1.43-.59-.52 0-1.04.2-1.43.59L10.3 9.45l-7.72 7.72c-.78.78-.78 2.05 0 2.83L4 21.41c.39.39.9.59 1.41.59.51 0 1.02-.2 1.41-.59l7.78-7.78 2.81-2.81c.8-.78.8-2.07 0-2.86zM5.41 20L4 18.59l7.72-7.72 1.47 1.35L5.41 20z\"/>\n",
              "  </svg>\n",
              "      </button>\n",
              "      \n",
              "  <style>\n",
              "    .colab-df-container {\n",
              "      display:flex;\n",
              "      flex-wrap:wrap;\n",
              "      gap: 12px;\n",
              "    }\n",
              "\n",
              "    .colab-df-convert {\n",
              "      background-color: #E8F0FE;\n",
              "      border: none;\n",
              "      border-radius: 50%;\n",
              "      cursor: pointer;\n",
              "      display: none;\n",
              "      fill: #1967D2;\n",
              "      height: 32px;\n",
              "      padding: 0 0 0 0;\n",
              "      width: 32px;\n",
              "    }\n",
              "\n",
              "    .colab-df-convert:hover {\n",
              "      background-color: #E2EBFA;\n",
              "      box-shadow: 0px 1px 2px rgba(60, 64, 67, 0.3), 0px 1px 3px 1px rgba(60, 64, 67, 0.15);\n",
              "      fill: #174EA6;\n",
              "    }\n",
              "\n",
              "    [theme=dark] .colab-df-convert {\n",
              "      background-color: #3B4455;\n",
              "      fill: #D2E3FC;\n",
              "    }\n",
              "\n",
              "    [theme=dark] .colab-df-convert:hover {\n",
              "      background-color: #434B5C;\n",
              "      box-shadow: 0px 1px 3px 1px rgba(0, 0, 0, 0.15);\n",
              "      filter: drop-shadow(0px 1px 2px rgba(0, 0, 0, 0.3));\n",
              "      fill: #FFFFFF;\n",
              "    }\n",
              "  </style>\n",
              "\n",
              "      <script>\n",
              "        const buttonEl =\n",
              "          document.querySelector('#df-1ac6b8f2-748c-409c-b1ea-dd1b65a15a7d button.colab-df-convert');\n",
              "        buttonEl.style.display =\n",
              "          google.colab.kernel.accessAllowed ? 'block' : 'none';\n",
              "\n",
              "        async function convertToInteractive(key) {\n",
              "          const element = document.querySelector('#df-1ac6b8f2-748c-409c-b1ea-dd1b65a15a7d');\n",
              "          const dataTable =\n",
              "            await google.colab.kernel.invokeFunction('convertToInteractive',\n",
              "                                                     [key], {});\n",
              "          if (!dataTable) return;\n",
              "\n",
              "          const docLinkHtml = 'Like what you see? Visit the ' +\n",
              "            '<a target=\"_blank\" href=https://colab.research.google.com/notebooks/data_table.ipynb>data table notebook</a>'\n",
              "            + ' to learn more about interactive tables.';\n",
              "          element.innerHTML = '';\n",
              "          dataTable['output_type'] = 'display_data';\n",
              "          await google.colab.output.renderOutput(dataTable, element);\n",
              "          const docLink = document.createElement('div');\n",
              "          docLink.innerHTML = docLinkHtml;\n",
              "          element.appendChild(docLink);\n",
              "        }\n",
              "      </script>\n",
              "    </div>\n",
              "  </div>\n",
              "  "
            ]
          },
          "metadata": {},
          "execution_count": 35
        }
      ],
      "source": [
        "DATA_LEN = 15000\n",
        "\n",
        "data = pd.concat([positive.head(DATA_LEN), negative.head(DATA_LEN)])\n",
        "data.loc[(data.ttype < 0), ('ttype')] = 0\n",
        "data"
      ]
    },
    {
      "cell_type": "code",
      "execution_count": null,
      "id": "1de75e1c",
      "metadata": {
        "id": "1de75e1c"
      },
      "outputs": [],
      "source": [
        "X=data['ttext'].values.tolist()\n",
        "y=data['ttype'].values.tolist()"
      ]
    },
    {
      "cell_type": "markdown",
      "id": "c9c9ee2f",
      "metadata": {
        "id": "c9c9ee2f"
      },
      "source": [
        "# Обучение языковой модели/Language model training"
      ]
    },
    {
      "cell_type": "code",
      "execution_count": null,
      "id": "1754be5d",
      "metadata": {
        "id": "1754be5d",
        "outputId": "7a17be32-c5d8-46ab-e722-a10d4ea5a417",
        "colab": {
          "base_uri": "https://localhost:8080/"
        }
      },
      "outputs": [
        {
          "output_type": "stream",
          "name": "stdout",
          "text": [
            "[nltk_data] Downloading package punkt to /root/nltk_data...\n",
            "[nltk_data]   Package punkt is already up-to-date!\n"
          ]
        }
      ],
      "source": [
        "from string import punctuation\n",
        "import nltk\n",
        "nltk.download('punkt')\n",
        "\n",
        "import nltk.corpus\n",
        "import nltk.tokenize\n",
        "\n",
        "punctuations = list(punctuation)\n",
        "punkt = ['``','...',\"''\",'«','»','…','”','”','“','-','–','..']\n",
        "punctuations.extend(punkt)\n",
        "\n",
        "def tokenize(text):\n",
        "    text_token = nltk.word_tokenize(text)\n",
        "    text_word=[x.lower() for x in text_token if x not in punctuations and x.isalpha]\n",
        "    return text_word"
      ]
    },
    {
      "cell_type": "code",
      "execution_count": null,
      "id": "5cd484e0",
      "metadata": {
        "id": "5cd484e0"
      },
      "outputs": [],
      "source": [
        "X_token = [tokenize(t) for t in X]"
      ]
    },
    {
      "cell_type": "code",
      "execution_count": null,
      "id": "47813c25",
      "metadata": {
        "id": "47813c25"
      },
      "outputs": [],
      "source": [
        "VECTOR_SIZE = 300"
      ]
    },
    {
      "cell_type": "code",
      "source": [
        "!pip install --upgrade gensim"
      ],
      "metadata": {
        "colab": {
          "base_uri": "https://localhost:8080/"
        },
        "id": "60cm7SFXTfli",
        "outputId": "0abb01bc-84a9-4c68-b846-4e1772f9340d"
      },
      "id": "60cm7SFXTfli",
      "execution_count": null,
      "outputs": [
        {
          "output_type": "stream",
          "name": "stdout",
          "text": [
            "Requirement already satisfied: gensim in /usr/local/lib/python3.7/dist-packages (4.2.0)\n",
            "Requirement already satisfied: numpy>=1.17.0 in /usr/local/lib/python3.7/dist-packages (from gensim) (1.21.6)\n",
            "Requirement already satisfied: smart-open>=1.8.1 in /usr/local/lib/python3.7/dist-packages (from gensim) (6.0.0)\n",
            "Requirement already satisfied: scipy>=0.18.1 in /usr/local/lib/python3.7/dist-packages (from gensim) (1.4.1)\n"
          ]
        }
      ]
    },
    {
      "cell_type": "code",
      "execution_count": null,
      "id": "d5204f73",
      "metadata": {
        "id": "d5204f73"
      },
      "outputs": [],
      "source": [
        "from gensim.models import Word2Vec\n",
        "\n",
        "w2v_model = Word2Vec(sentences=X_token, vector_size=VECTOR_SIZE, window=5, min_count=1, workers=4)"
      ]
    },
    {
      "cell_type": "code",
      "execution_count": null,
      "id": "65342110",
      "metadata": {
        "id": "65342110"
      },
      "outputs": [],
      "source": [
        "w2v_model.build_vocab(X_token)"
      ]
    },
    {
      "cell_type": "code",
      "execution_count": null,
      "id": "91ce105f",
      "metadata": {
        "id": "91ce105f",
        "outputId": "5f5c9442-336d-4d04-ba7a-0cd450652aa1",
        "colab": {
          "base_uri": "https://localhost:8080/"
        }
      },
      "outputs": [
        {
          "output_type": "stream",
          "name": "stderr",
          "text": [
            "/usr/local/lib/python3.7/dist-packages/ipykernel_launcher.py:3: DeprecationWarning: Call to deprecated `init_sims` (Gensim 4.0.0 implemented internal optimizations that make calls to init_sims() unnecessary. init_sims() is now obsoleted and will be completely removed in future versions. See https://github.com/RaRe-Technologies/gensim/wiki/Migrating-from-Gensim-3.x-to-4).\n",
            "  This is separate from the ipykernel package so we can avoid doing imports until\n"
          ]
        }
      ],
      "source": [
        "w2v_model.train(X_token, total_examples=w2v_model.corpus_count,\n",
        "                epochs=10, report_delay=1)\n",
        "w2v_model.init_sims(replace=True)"
      ]
    },
    {
      "cell_type": "code",
      "execution_count": null,
      "id": "8ecfdac5",
      "metadata": {
        "id": "8ecfdac5"
      },
      "outputs": [],
      "source": [
        "import numpy as np\n",
        "import gensim\n",
        "\n",
        "def word_averaging(w2v_model, words):\n",
        "    mean = []\n",
        "\n",
        "    for word in words:\n",
        "        m = w2v_model.wv[word]\n",
        "        mean.append(m)\n",
        "\n",
        "    mean = gensim.matutils.unitvec(np.array(mean).mean(axis=0)).astype(np.float32)\n",
        "    return mean"
      ]
    },
    {
      "cell_type": "code",
      "execution_count": null,
      "id": "c8fef9cd",
      "metadata": {
        "id": "c8fef9cd"
      },
      "outputs": [],
      "source": [
        "def word_averaging_list(model, text_list):\n",
        "    return np.vstack([word_averaging(model, comment_text) for comment_text in text_list])"
      ]
    },
    {
      "cell_type": "code",
      "execution_count": null,
      "id": "85103d9f",
      "metadata": {
        "id": "85103d9f",
        "outputId": "bcb62c18-db20-4bfa-ae27-52046f8af740",
        "colab": {
          "base_uri": "https://localhost:8080/"
        }
      },
      "outputs": [
        {
          "output_type": "execute_result",
          "data": {
            "text/plain": [
              "(30000, 300)"
            ]
          },
          "metadata": {},
          "execution_count": 46
        }
      ],
      "source": [
        "X = word_averaging_list(w2v_model, X_token)\n",
        "X.shape"
      ]
    },
    {
      "cell_type": "code",
      "source": [
        "from sklearn.model_selection import train_test_split\n",
        "\n",
        "X, X_test, y, y_test = train_test_split(X, y, test_size=0.2)"
      ],
      "metadata": {
        "id": "f_aso8aDMTPA"
      },
      "id": "f_aso8aDMTPA",
      "execution_count": null,
      "outputs": []
    },
    {
      "cell_type": "markdown",
      "id": "537396ad",
      "metadata": {
        "id": "537396ad"
      },
      "source": [
        "# Ансамбли/Ensembles"
      ]
    },
    {
      "cell_type": "code",
      "execution_count": null,
      "id": "292bb482",
      "metadata": {
        "id": "292bb482"
      },
      "outputs": [],
      "source": [
        "NUM_CLASSES = 2"
      ]
    },
    {
      "cell_type": "code",
      "execution_count": null,
      "id": "1b5b820f",
      "metadata": {
        "id": "1b5b820f"
      },
      "outputs": [],
      "source": [
        "from sklearn.ensemble import AdaBoostClassifier\n",
        "from sklearn.ensemble import BaggingClassifier\n",
        "from sklearn.ensemble import StackingClassifier\n",
        "\n",
        "from sklearn.preprocessing import StandardScaler\n",
        "from sklearn.pipeline import make_pipeline\n",
        "\n",
        "from sklearn.tree import DecisionTreeClassifier\n",
        "from sklearn.neighbors import KNeighborsClassifier\n",
        "from sklearn.ensemble import RandomForestClassifier\n",
        "from sklearn.svm import LinearSVC\n",
        "\n",
        "from sklearn.linear_model import LogisticRegression\n",
        "\n",
        "from sklearn.metrics import classification_report\n",
        "from sklearn.metrics import confusion_matrix\n",
        "\n",
        "def try_ensemble(X, y, X_test, y_test, n_estimators=20):\n",
        "    estimators = {'DecisionTreeClassifier': DecisionTreeClassifier(max_depth=7)}\n",
        "    for name, be in estimators.items():\n",
        "        clf = AdaBoostClassifier(base_estimator=be, n_estimators=n_estimators, random_state=10)\n",
        "        clf.fit(X, y)\n",
        "        predicted = clf.predict(X_test)\n",
        "\n",
        "        print(\"ADA BOOST\")\n",
        "        print(f\"estimator: {name}\")\n",
        "        print(classification_report(y_test, predicted))\n",
        "        print(confusion_matrix(y_test, predicted))\n",
        "\n",
        "    print('-' * 50)\n",
        "    estimators = {'DecisionTreeClassifier': DecisionTreeClassifier(max_depth=7),\n",
        "                  'KNeighborsClassifier': KNeighborsClassifier()}\n",
        "    for name, be in estimators.items():\n",
        "        clf = BaggingClassifier(base_estimator=be, n_estimators=n_estimators, random_state=10)\n",
        "        clf.fit(X, y)\n",
        "        predicted = clf.predict(X_test)\n",
        "\n",
        "        print(\"BAGGING\")\n",
        "        print(f\"estimator: {name}\")\n",
        "        print(classification_report(y_test, predicted))\n",
        "        print(confusion_matrix(y_test, predicted))\n",
        "\n",
        "    print('-' * 50)\n",
        "\n",
        "    estimators = {'DecisionTreeClassifier': DecisionTreeClassifier(max_depth=7),\n",
        "                  'RandomForestClassifier': RandomForestClassifier(n_estimators=n_estimators, random_state=10),\n",
        "                  'KNeighborsClassifier': KNeighborsClassifier()}\n",
        "    for name, be in estimators.items():\n",
        "        ests = [\n",
        "        ('rf', be),\n",
        "        ('svr', make_pipeline(StandardScaler(),\n",
        "                              LinearSVC(random_state=10)))]\n",
        "        clf = StackingClassifier(\n",
        "        estimators=ests, final_estimator=LogisticRegression())\n",
        "        clf.fit(X, y)\n",
        "        predicted = clf.predict(X_test)\n",
        "\n",
        "        print(\"STACKING\")\n",
        "        print(f\"estimator: {name}\")\n",
        "        print(classification_report(y_test, predicted))\n",
        "        print(confusion_matrix(y_test, predicted))"
      ]
    },
    {
      "cell_type": "code",
      "source": [
        "try_ensemble(X, y, X_test, y_test, 40)"
      ],
      "metadata": {
        "colab": {
          "base_uri": "https://localhost:8080/"
        },
        "id": "QIgU-sIXMtSs",
        "outputId": "02feaea2-00a0-4913-fe5f-ac23a20826c1"
      },
      "id": "QIgU-sIXMtSs",
      "execution_count": null,
      "outputs": [
        {
          "output_type": "stream",
          "name": "stdout",
          "text": [
            "ADA BOOST\n",
            "estimator: DecisionTreeClassifier\n",
            "              precision    recall  f1-score   support\n",
            "\n",
            "           0       0.60      0.59      0.60      2998\n",
            "           1       0.60      0.61      0.60      3002\n",
            "\n",
            "    accuracy                           0.60      6000\n",
            "   macro avg       0.60      0.60      0.60      6000\n",
            "weighted avg       0.60      0.60      0.60      6000\n",
            "\n",
            "[[1782 1216]\n",
            " [1182 1820]]\n",
            "--------------------------------------------------\n",
            "BAGGING\n",
            "estimator: DecisionTreeClassifier\n",
            "              precision    recall  f1-score   support\n",
            "\n",
            "           0       0.65      0.64      0.64      2998\n",
            "           1       0.64      0.65      0.65      3002\n",
            "\n",
            "    accuracy                           0.64      6000\n",
            "   macro avg       0.64      0.64      0.64      6000\n",
            "weighted avg       0.64      0.64      0.64      6000\n",
            "\n",
            "[[1910 1088]\n",
            " [1051 1951]]\n",
            "BAGGING\n",
            "estimator: KNeighborsClassifier\n",
            "              precision    recall  f1-score   support\n",
            "\n",
            "           0       0.64      0.49      0.56      2998\n",
            "           1       0.59      0.73      0.65      3002\n",
            "\n",
            "    accuracy                           0.61      6000\n",
            "   macro avg       0.62      0.61      0.60      6000\n",
            "weighted avg       0.62      0.61      0.60      6000\n",
            "\n",
            "[[1472 1526]\n",
            " [ 819 2183]]\n",
            "--------------------------------------------------\n"
          ]
        },
        {
          "output_type": "stream",
          "name": "stderr",
          "text": [
            "/usr/local/lib/python3.7/dist-packages/sklearn/svm/_base.py:1208: ConvergenceWarning: Liblinear failed to converge, increase the number of iterations.\n",
            "  ConvergenceWarning,\n",
            "/usr/local/lib/python3.7/dist-packages/sklearn/svm/_base.py:1208: ConvergenceWarning: Liblinear failed to converge, increase the number of iterations.\n",
            "  ConvergenceWarning,\n",
            "/usr/local/lib/python3.7/dist-packages/sklearn/svm/_base.py:1208: ConvergenceWarning: Liblinear failed to converge, increase the number of iterations.\n",
            "  ConvergenceWarning,\n",
            "/usr/local/lib/python3.7/dist-packages/sklearn/svm/_base.py:1208: ConvergenceWarning: Liblinear failed to converge, increase the number of iterations.\n",
            "  ConvergenceWarning,\n",
            "/usr/local/lib/python3.7/dist-packages/sklearn/svm/_base.py:1208: ConvergenceWarning: Liblinear failed to converge, increase the number of iterations.\n",
            "  ConvergenceWarning,\n",
            "/usr/local/lib/python3.7/dist-packages/sklearn/svm/_base.py:1208: ConvergenceWarning: Liblinear failed to converge, increase the number of iterations.\n",
            "  ConvergenceWarning,\n"
          ]
        },
        {
          "output_type": "stream",
          "name": "stdout",
          "text": [
            "STACKING\n",
            "estimator: DecisionTreeClassifier\n",
            "              precision    recall  f1-score   support\n",
            "\n",
            "           0       0.62      0.63      0.63      2998\n",
            "           1       0.63      0.62      0.62      3002\n",
            "\n",
            "    accuracy                           0.62      6000\n",
            "   macro avg       0.62      0.62      0.62      6000\n",
            "weighted avg       0.62      0.62      0.62      6000\n",
            "\n",
            "[[1885 1113]\n",
            " [1139 1863]]\n"
          ]
        },
        {
          "output_type": "stream",
          "name": "stderr",
          "text": [
            "/usr/local/lib/python3.7/dist-packages/sklearn/svm/_base.py:1208: ConvergenceWarning: Liblinear failed to converge, increase the number of iterations.\n",
            "  ConvergenceWarning,\n",
            "/usr/local/lib/python3.7/dist-packages/sklearn/svm/_base.py:1208: ConvergenceWarning: Liblinear failed to converge, increase the number of iterations.\n",
            "  ConvergenceWarning,\n",
            "/usr/local/lib/python3.7/dist-packages/sklearn/svm/_base.py:1208: ConvergenceWarning: Liblinear failed to converge, increase the number of iterations.\n",
            "  ConvergenceWarning,\n",
            "/usr/local/lib/python3.7/dist-packages/sklearn/svm/_base.py:1208: ConvergenceWarning: Liblinear failed to converge, increase the number of iterations.\n",
            "  ConvergenceWarning,\n",
            "/usr/local/lib/python3.7/dist-packages/sklearn/svm/_base.py:1208: ConvergenceWarning: Liblinear failed to converge, increase the number of iterations.\n",
            "  ConvergenceWarning,\n",
            "/usr/local/lib/python3.7/dist-packages/sklearn/svm/_base.py:1208: ConvergenceWarning: Liblinear failed to converge, increase the number of iterations.\n",
            "  ConvergenceWarning,\n"
          ]
        },
        {
          "output_type": "stream",
          "name": "stdout",
          "text": [
            "STACKING\n",
            "estimator: RandomForestClassifier\n",
            "              precision    recall  f1-score   support\n",
            "\n",
            "           0       0.65      0.67      0.66      2998\n",
            "           1       0.66      0.64      0.65      3002\n",
            "\n",
            "    accuracy                           0.66      6000\n",
            "   macro avg       0.66      0.66      0.66      6000\n",
            "weighted avg       0.66      0.66      0.66      6000\n",
            "\n",
            "[[2019  979]\n",
            " [1085 1917]]\n"
          ]
        },
        {
          "output_type": "stream",
          "name": "stderr",
          "text": [
            "/usr/local/lib/python3.7/dist-packages/sklearn/svm/_base.py:1208: ConvergenceWarning: Liblinear failed to converge, increase the number of iterations.\n",
            "  ConvergenceWarning,\n",
            "/usr/local/lib/python3.7/dist-packages/sklearn/svm/_base.py:1208: ConvergenceWarning: Liblinear failed to converge, increase the number of iterations.\n",
            "  ConvergenceWarning,\n",
            "/usr/local/lib/python3.7/dist-packages/sklearn/svm/_base.py:1208: ConvergenceWarning: Liblinear failed to converge, increase the number of iterations.\n",
            "  ConvergenceWarning,\n",
            "/usr/local/lib/python3.7/dist-packages/sklearn/svm/_base.py:1208: ConvergenceWarning: Liblinear failed to converge, increase the number of iterations.\n",
            "  ConvergenceWarning,\n",
            "/usr/local/lib/python3.7/dist-packages/sklearn/svm/_base.py:1208: ConvergenceWarning: Liblinear failed to converge, increase the number of iterations.\n",
            "  ConvergenceWarning,\n",
            "/usr/local/lib/python3.7/dist-packages/sklearn/svm/_base.py:1208: ConvergenceWarning: Liblinear failed to converge, increase the number of iterations.\n",
            "  ConvergenceWarning,\n"
          ]
        },
        {
          "output_type": "stream",
          "name": "stdout",
          "text": [
            "STACKING\n",
            "estimator: KNeighborsClassifier\n",
            "              precision    recall  f1-score   support\n",
            "\n",
            "           0       0.63      0.64      0.64      2998\n",
            "           1       0.64      0.63      0.63      3002\n",
            "\n",
            "    accuracy                           0.63      6000\n",
            "   macro avg       0.63      0.63      0.63      6000\n",
            "weighted avg       0.63      0.63      0.63      6000\n",
            "\n",
            "[[1918 1080]\n",
            " [1114 1888]]\n"
          ]
        }
      ]
    },
    {
      "cell_type": "code",
      "source": [
        "try_ensemble(X, y, X_test, y_test, 60)"
      ],
      "metadata": {
        "colab": {
          "base_uri": "https://localhost:8080/"
        },
        "id": "T6KYSwtBVByJ",
        "outputId": "9a5129f1-d2cd-4406-b147-bd3320c461b2"
      },
      "id": "T6KYSwtBVByJ",
      "execution_count": null,
      "outputs": [
        {
          "output_type": "stream",
          "name": "stdout",
          "text": [
            "ADA BOOST\n",
            "estimator: DecisionTreeClassifier\n",
            "              precision    recall  f1-score   support\n",
            "\n",
            "           0       0.59      0.60      0.60      2998\n",
            "           1       0.60      0.59      0.59      3002\n",
            "\n",
            "    accuracy                           0.59      6000\n",
            "   macro avg       0.60      0.60      0.59      6000\n",
            "weighted avg       0.60      0.59      0.59      6000\n",
            "\n",
            "[[1786 1212]\n",
            " [1218 1784]]\n",
            "--------------------------------------------------\n",
            "BAGGING\n",
            "estimator: DecisionTreeClassifier\n",
            "              precision    recall  f1-score   support\n",
            "\n",
            "           0       0.64      0.64      0.64      2998\n",
            "           1       0.64      0.65      0.64      3002\n",
            "\n",
            "    accuracy                           0.64      6000\n",
            "   macro avg       0.64      0.64      0.64      6000\n",
            "weighted avg       0.64      0.64      0.64      6000\n",
            "\n",
            "[[1913 1085]\n",
            " [1059 1943]]\n",
            "BAGGING\n",
            "estimator: KNeighborsClassifier\n",
            "              precision    recall  f1-score   support\n",
            "\n",
            "           0       0.64      0.49      0.56      2998\n",
            "           1       0.59      0.73      0.65      3002\n",
            "\n",
            "    accuracy                           0.61      6000\n",
            "   macro avg       0.61      0.61      0.60      6000\n",
            "weighted avg       0.61      0.61      0.60      6000\n",
            "\n",
            "[[1468 1530]\n",
            " [ 819 2183]]\n",
            "--------------------------------------------------\n"
          ]
        },
        {
          "output_type": "stream",
          "name": "stderr",
          "text": [
            "/usr/local/lib/python3.7/dist-packages/sklearn/svm/_base.py:1208: ConvergenceWarning: Liblinear failed to converge, increase the number of iterations.\n",
            "  ConvergenceWarning,\n",
            "/usr/local/lib/python3.7/dist-packages/sklearn/svm/_base.py:1208: ConvergenceWarning: Liblinear failed to converge, increase the number of iterations.\n",
            "  ConvergenceWarning,\n",
            "/usr/local/lib/python3.7/dist-packages/sklearn/svm/_base.py:1208: ConvergenceWarning: Liblinear failed to converge, increase the number of iterations.\n",
            "  ConvergenceWarning,\n",
            "/usr/local/lib/python3.7/dist-packages/sklearn/svm/_base.py:1208: ConvergenceWarning: Liblinear failed to converge, increase the number of iterations.\n",
            "  ConvergenceWarning,\n",
            "/usr/local/lib/python3.7/dist-packages/sklearn/svm/_base.py:1208: ConvergenceWarning: Liblinear failed to converge, increase the number of iterations.\n",
            "  ConvergenceWarning,\n",
            "/usr/local/lib/python3.7/dist-packages/sklearn/svm/_base.py:1208: ConvergenceWarning: Liblinear failed to converge, increase the number of iterations.\n",
            "  ConvergenceWarning,\n"
          ]
        },
        {
          "output_type": "stream",
          "name": "stdout",
          "text": [
            "STACKING\n",
            "estimator: DecisionTreeClassifier\n",
            "              precision    recall  f1-score   support\n",
            "\n",
            "           0       0.62      0.63      0.63      2998\n",
            "           1       0.63      0.62      0.62      3002\n",
            "\n",
            "    accuracy                           0.63      6000\n",
            "   macro avg       0.63      0.63      0.63      6000\n",
            "weighted avg       0.63      0.63      0.63      6000\n",
            "\n",
            "[[1889 1109]\n",
            " [1136 1866]]\n"
          ]
        },
        {
          "output_type": "stream",
          "name": "stderr",
          "text": [
            "/usr/local/lib/python3.7/dist-packages/sklearn/svm/_base.py:1208: ConvergenceWarning: Liblinear failed to converge, increase the number of iterations.\n",
            "  ConvergenceWarning,\n",
            "/usr/local/lib/python3.7/dist-packages/sklearn/svm/_base.py:1208: ConvergenceWarning: Liblinear failed to converge, increase the number of iterations.\n",
            "  ConvergenceWarning,\n",
            "/usr/local/lib/python3.7/dist-packages/sklearn/svm/_base.py:1208: ConvergenceWarning: Liblinear failed to converge, increase the number of iterations.\n",
            "  ConvergenceWarning,\n",
            "/usr/local/lib/python3.7/dist-packages/sklearn/svm/_base.py:1208: ConvergenceWarning: Liblinear failed to converge, increase the number of iterations.\n",
            "  ConvergenceWarning,\n",
            "/usr/local/lib/python3.7/dist-packages/sklearn/svm/_base.py:1208: ConvergenceWarning: Liblinear failed to converge, increase the number of iterations.\n",
            "  ConvergenceWarning,\n",
            "/usr/local/lib/python3.7/dist-packages/sklearn/svm/_base.py:1208: ConvergenceWarning: Liblinear failed to converge, increase the number of iterations.\n",
            "  ConvergenceWarning,\n"
          ]
        },
        {
          "output_type": "stream",
          "name": "stdout",
          "text": [
            "STACKING\n",
            "estimator: RandomForestClassifier\n",
            "              precision    recall  f1-score   support\n",
            "\n",
            "           0       0.66      0.67      0.66      2998\n",
            "           1       0.66      0.65      0.66      3002\n",
            "\n",
            "    accuracy                           0.66      6000\n",
            "   macro avg       0.66      0.66      0.66      6000\n",
            "weighted avg       0.66      0.66      0.66      6000\n",
            "\n",
            "[[2017  981]\n",
            " [1058 1944]]\n"
          ]
        },
        {
          "output_type": "stream",
          "name": "stderr",
          "text": [
            "/usr/local/lib/python3.7/dist-packages/sklearn/svm/_base.py:1208: ConvergenceWarning: Liblinear failed to converge, increase the number of iterations.\n",
            "  ConvergenceWarning,\n",
            "/usr/local/lib/python3.7/dist-packages/sklearn/svm/_base.py:1208: ConvergenceWarning: Liblinear failed to converge, increase the number of iterations.\n",
            "  ConvergenceWarning,\n",
            "/usr/local/lib/python3.7/dist-packages/sklearn/svm/_base.py:1208: ConvergenceWarning: Liblinear failed to converge, increase the number of iterations.\n",
            "  ConvergenceWarning,\n",
            "/usr/local/lib/python3.7/dist-packages/sklearn/svm/_base.py:1208: ConvergenceWarning: Liblinear failed to converge, increase the number of iterations.\n",
            "  ConvergenceWarning,\n",
            "/usr/local/lib/python3.7/dist-packages/sklearn/svm/_base.py:1208: ConvergenceWarning: Liblinear failed to converge, increase the number of iterations.\n",
            "  ConvergenceWarning,\n",
            "/usr/local/lib/python3.7/dist-packages/sklearn/svm/_base.py:1208: ConvergenceWarning: Liblinear failed to converge, increase the number of iterations.\n",
            "  ConvergenceWarning,\n"
          ]
        },
        {
          "output_type": "stream",
          "name": "stdout",
          "text": [
            "STACKING\n",
            "estimator: KNeighborsClassifier\n",
            "              precision    recall  f1-score   support\n",
            "\n",
            "           0       0.63      0.64      0.64      2998\n",
            "           1       0.64      0.63      0.63      3002\n",
            "\n",
            "    accuracy                           0.63      6000\n",
            "   macro avg       0.63      0.63      0.63      6000\n",
            "weighted avg       0.63      0.63      0.63      6000\n",
            "\n",
            "[[1918 1080]\n",
            " [1114 1888]]\n"
          ]
        }
      ]
    },
    {
      "cell_type": "code",
      "source": [
        "try_ensemble(X, y, X_test, y_test, 20)"
      ],
      "metadata": {
        "colab": {
          "base_uri": "https://localhost:8080/"
        },
        "id": "TdhvxiJjVDju",
        "outputId": "46a00d2f-0bf7-429a-cebd-c0e8cd3d8b68"
      },
      "id": "TdhvxiJjVDju",
      "execution_count": null,
      "outputs": [
        {
          "output_type": "stream",
          "name": "stdout",
          "text": [
            "ADA BOOST\n",
            "estimator: DecisionTreeClassifier\n",
            "              precision    recall  f1-score   support\n",
            "\n",
            "           0       0.60      0.58      0.59      2998\n",
            "           1       0.59      0.61      0.60      3002\n",
            "\n",
            "    accuracy                           0.60      6000\n",
            "   macro avg       0.60      0.60      0.60      6000\n",
            "weighted avg       0.60      0.60      0.60      6000\n",
            "\n",
            "[[1735 1263]\n",
            " [1162 1840]]\n",
            "--------------------------------------------------\n",
            "BAGGING\n",
            "estimator: DecisionTreeClassifier\n",
            "              precision    recall  f1-score   support\n",
            "\n",
            "           0       0.65      0.63      0.64      2998\n",
            "           1       0.64      0.66      0.65      3002\n",
            "\n",
            "    accuracy                           0.64      6000\n",
            "   macro avg       0.64      0.64      0.64      6000\n",
            "weighted avg       0.64      0.64      0.64      6000\n",
            "\n",
            "[[1876 1122]\n",
            " [1030 1972]]\n",
            "BAGGING\n",
            "estimator: KNeighborsClassifier\n",
            "              precision    recall  f1-score   support\n",
            "\n",
            "           0       0.64      0.49      0.56      2998\n",
            "           1       0.59      0.72      0.65      3002\n",
            "\n",
            "    accuracy                           0.61      6000\n",
            "   macro avg       0.61      0.61      0.60      6000\n",
            "weighted avg       0.61      0.61      0.60      6000\n",
            "\n",
            "[[1479 1519]\n",
            " [ 846 2156]]\n",
            "--------------------------------------------------\n"
          ]
        },
        {
          "output_type": "stream",
          "name": "stderr",
          "text": [
            "/usr/local/lib/python3.7/dist-packages/sklearn/svm/_base.py:1208: ConvergenceWarning: Liblinear failed to converge, increase the number of iterations.\n",
            "  ConvergenceWarning,\n",
            "/usr/local/lib/python3.7/dist-packages/sklearn/svm/_base.py:1208: ConvergenceWarning: Liblinear failed to converge, increase the number of iterations.\n",
            "  ConvergenceWarning,\n",
            "/usr/local/lib/python3.7/dist-packages/sklearn/svm/_base.py:1208: ConvergenceWarning: Liblinear failed to converge, increase the number of iterations.\n",
            "  ConvergenceWarning,\n",
            "/usr/local/lib/python3.7/dist-packages/sklearn/svm/_base.py:1208: ConvergenceWarning: Liblinear failed to converge, increase the number of iterations.\n",
            "  ConvergenceWarning,\n",
            "/usr/local/lib/python3.7/dist-packages/sklearn/svm/_base.py:1208: ConvergenceWarning: Liblinear failed to converge, increase the number of iterations.\n",
            "  ConvergenceWarning,\n",
            "/usr/local/lib/python3.7/dist-packages/sklearn/svm/_base.py:1208: ConvergenceWarning: Liblinear failed to converge, increase the number of iterations.\n",
            "  ConvergenceWarning,\n"
          ]
        },
        {
          "output_type": "stream",
          "name": "stdout",
          "text": [
            "STACKING\n",
            "estimator: DecisionTreeClassifier\n",
            "              precision    recall  f1-score   support\n",
            "\n",
            "           0       0.62      0.63      0.63      2998\n",
            "           1       0.63      0.62      0.62      3002\n",
            "\n",
            "    accuracy                           0.63      6000\n",
            "   macro avg       0.63      0.63      0.63      6000\n",
            "weighted avg       0.63      0.63      0.63      6000\n",
            "\n",
            "[[1891 1107]\n",
            " [1140 1862]]\n"
          ]
        },
        {
          "output_type": "stream",
          "name": "stderr",
          "text": [
            "/usr/local/lib/python3.7/dist-packages/sklearn/svm/_base.py:1208: ConvergenceWarning: Liblinear failed to converge, increase the number of iterations.\n",
            "  ConvergenceWarning,\n",
            "/usr/local/lib/python3.7/dist-packages/sklearn/svm/_base.py:1208: ConvergenceWarning: Liblinear failed to converge, increase the number of iterations.\n",
            "  ConvergenceWarning,\n",
            "/usr/local/lib/python3.7/dist-packages/sklearn/svm/_base.py:1208: ConvergenceWarning: Liblinear failed to converge, increase the number of iterations.\n",
            "  ConvergenceWarning,\n",
            "/usr/local/lib/python3.7/dist-packages/sklearn/svm/_base.py:1208: ConvergenceWarning: Liblinear failed to converge, increase the number of iterations.\n",
            "  ConvergenceWarning,\n",
            "/usr/local/lib/python3.7/dist-packages/sklearn/svm/_base.py:1208: ConvergenceWarning: Liblinear failed to converge, increase the number of iterations.\n",
            "  ConvergenceWarning,\n",
            "/usr/local/lib/python3.7/dist-packages/sklearn/svm/_base.py:1208: ConvergenceWarning: Liblinear failed to converge, increase the number of iterations.\n",
            "  ConvergenceWarning,\n"
          ]
        },
        {
          "output_type": "stream",
          "name": "stdout",
          "text": [
            "STACKING\n",
            "estimator: RandomForestClassifier\n",
            "              precision    recall  f1-score   support\n",
            "\n",
            "           0       0.65      0.67      0.66      2998\n",
            "           1       0.66      0.64      0.65      3002\n",
            "\n",
            "    accuracy                           0.65      6000\n",
            "   macro avg       0.65      0.65      0.65      6000\n",
            "weighted avg       0.65      0.65      0.65      6000\n",
            "\n",
            "[[1995 1003]\n",
            " [1080 1922]]\n"
          ]
        },
        {
          "output_type": "stream",
          "name": "stderr",
          "text": [
            "/usr/local/lib/python3.7/dist-packages/sklearn/svm/_base.py:1208: ConvergenceWarning: Liblinear failed to converge, increase the number of iterations.\n",
            "  ConvergenceWarning,\n",
            "/usr/local/lib/python3.7/dist-packages/sklearn/svm/_base.py:1208: ConvergenceWarning: Liblinear failed to converge, increase the number of iterations.\n",
            "  ConvergenceWarning,\n",
            "/usr/local/lib/python3.7/dist-packages/sklearn/svm/_base.py:1208: ConvergenceWarning: Liblinear failed to converge, increase the number of iterations.\n",
            "  ConvergenceWarning,\n",
            "/usr/local/lib/python3.7/dist-packages/sklearn/svm/_base.py:1208: ConvergenceWarning: Liblinear failed to converge, increase the number of iterations.\n",
            "  ConvergenceWarning,\n",
            "/usr/local/lib/python3.7/dist-packages/sklearn/svm/_base.py:1208: ConvergenceWarning: Liblinear failed to converge, increase the number of iterations.\n",
            "  ConvergenceWarning,\n",
            "/usr/local/lib/python3.7/dist-packages/sklearn/svm/_base.py:1208: ConvergenceWarning: Liblinear failed to converge, increase the number of iterations.\n",
            "  ConvergenceWarning,\n"
          ]
        },
        {
          "output_type": "stream",
          "name": "stdout",
          "text": [
            "STACKING\n",
            "estimator: KNeighborsClassifier\n",
            "              precision    recall  f1-score   support\n",
            "\n",
            "           0       0.63      0.64      0.64      2998\n",
            "           1       0.64      0.63      0.63      3002\n",
            "\n",
            "    accuracy                           0.63      6000\n",
            "   macro avg       0.63      0.63      0.63      6000\n",
            "weighted avg       0.63      0.63      0.63      6000\n",
            "\n",
            "[[1918 1080]\n",
            " [1114 1888]]\n"
          ]
        }
      ]
    },
    {
      "cell_type": "code",
      "source": [
        "try_ensemble(X, y, X_test, y_test, 100)"
      ],
      "metadata": {
        "colab": {
          "base_uri": "https://localhost:8080/"
        },
        "id": "E0XTuO-kVSai",
        "outputId": "fc0652cf-ccff-4e36-c3d9-493aef80932d"
      },
      "id": "E0XTuO-kVSai",
      "execution_count": null,
      "outputs": [
        {
          "output_type": "stream",
          "name": "stdout",
          "text": [
            "ADA BOOST\n",
            "estimator: DecisionTreeClassifier\n",
            "              precision    recall  f1-score   support\n",
            "\n",
            "           0       0.60      0.59      0.59      2998\n",
            "           1       0.59      0.60      0.60      3002\n",
            "\n",
            "    accuracy                           0.59      6000\n",
            "   macro avg       0.60      0.59      0.59      6000\n",
            "weighted avg       0.60      0.59      0.59      6000\n",
            "\n",
            "[[1766 1232]\n",
            " [1198 1804]]\n",
            "--------------------------------------------------\n",
            "BAGGING\n",
            "estimator: DecisionTreeClassifier\n",
            "              precision    recall  f1-score   support\n",
            "\n",
            "           0       0.65      0.63      0.64      2998\n",
            "           1       0.64      0.65      0.65      3002\n",
            "\n",
            "    accuracy                           0.64      6000\n",
            "   macro avg       0.64      0.64      0.64      6000\n",
            "weighted avg       0.64      0.64      0.64      6000\n",
            "\n",
            "[[1903 1095]\n",
            " [1045 1957]]\n",
            "BAGGING\n",
            "estimator: KNeighborsClassifier\n",
            "              precision    recall  f1-score   support\n",
            "\n",
            "           0       0.64      0.49      0.55      2998\n",
            "           1       0.59      0.73      0.65      3002\n",
            "\n",
            "    accuracy                           0.61      6000\n",
            "   macro avg       0.61      0.61      0.60      6000\n",
            "weighted avg       0.61      0.61      0.60      6000\n",
            "\n",
            "[[1458 1540]\n",
            " [ 819 2183]]\n",
            "--------------------------------------------------\n"
          ]
        },
        {
          "output_type": "stream",
          "name": "stderr",
          "text": [
            "/usr/local/lib/python3.7/dist-packages/sklearn/svm/_base.py:1208: ConvergenceWarning: Liblinear failed to converge, increase the number of iterations.\n",
            "  ConvergenceWarning,\n",
            "/usr/local/lib/python3.7/dist-packages/sklearn/svm/_base.py:1208: ConvergenceWarning: Liblinear failed to converge, increase the number of iterations.\n",
            "  ConvergenceWarning,\n",
            "/usr/local/lib/python3.7/dist-packages/sklearn/svm/_base.py:1208: ConvergenceWarning: Liblinear failed to converge, increase the number of iterations.\n",
            "  ConvergenceWarning,\n",
            "/usr/local/lib/python3.7/dist-packages/sklearn/svm/_base.py:1208: ConvergenceWarning: Liblinear failed to converge, increase the number of iterations.\n",
            "  ConvergenceWarning,\n",
            "/usr/local/lib/python3.7/dist-packages/sklearn/svm/_base.py:1208: ConvergenceWarning: Liblinear failed to converge, increase the number of iterations.\n",
            "  ConvergenceWarning,\n",
            "/usr/local/lib/python3.7/dist-packages/sklearn/svm/_base.py:1208: ConvergenceWarning: Liblinear failed to converge, increase the number of iterations.\n",
            "  ConvergenceWarning,\n"
          ]
        },
        {
          "output_type": "stream",
          "name": "stdout",
          "text": [
            "STACKING\n",
            "estimator: DecisionTreeClassifier\n",
            "              precision    recall  f1-score   support\n",
            "\n",
            "           0       0.62      0.63      0.63      2998\n",
            "           1       0.63      0.62      0.62      3002\n",
            "\n",
            "    accuracy                           0.62      6000\n",
            "   macro avg       0.63      0.63      0.62      6000\n",
            "weighted avg       0.63      0.62      0.62      6000\n",
            "\n",
            "[[1885 1113]\n",
            " [1137 1865]]\n"
          ]
        },
        {
          "output_type": "stream",
          "name": "stderr",
          "text": [
            "/usr/local/lib/python3.7/dist-packages/sklearn/svm/_base.py:1208: ConvergenceWarning: Liblinear failed to converge, increase the number of iterations.\n",
            "  ConvergenceWarning,\n",
            "/usr/local/lib/python3.7/dist-packages/sklearn/svm/_base.py:1208: ConvergenceWarning: Liblinear failed to converge, increase the number of iterations.\n",
            "  ConvergenceWarning,\n",
            "/usr/local/lib/python3.7/dist-packages/sklearn/svm/_base.py:1208: ConvergenceWarning: Liblinear failed to converge, increase the number of iterations.\n",
            "  ConvergenceWarning,\n",
            "/usr/local/lib/python3.7/dist-packages/sklearn/svm/_base.py:1208: ConvergenceWarning: Liblinear failed to converge, increase the number of iterations.\n",
            "  ConvergenceWarning,\n",
            "/usr/local/lib/python3.7/dist-packages/sklearn/svm/_base.py:1208: ConvergenceWarning: Liblinear failed to converge, increase the number of iterations.\n",
            "  ConvergenceWarning,\n",
            "/usr/local/lib/python3.7/dist-packages/sklearn/svm/_base.py:1208: ConvergenceWarning: Liblinear failed to converge, increase the number of iterations.\n",
            "  ConvergenceWarning,\n"
          ]
        },
        {
          "output_type": "stream",
          "name": "stdout",
          "text": [
            "STACKING\n",
            "estimator: RandomForestClassifier\n",
            "              precision    recall  f1-score   support\n",
            "\n",
            "           0       0.67      0.69      0.68      2998\n",
            "           1       0.68      0.66      0.67      3002\n",
            "\n",
            "    accuracy                           0.67      6000\n",
            "   macro avg       0.67      0.67      0.67      6000\n",
            "weighted avg       0.67      0.67      0.67      6000\n",
            "\n",
            "[[2055  943]\n",
            " [1033 1969]]\n"
          ]
        },
        {
          "output_type": "stream",
          "name": "stderr",
          "text": [
            "/usr/local/lib/python3.7/dist-packages/sklearn/svm/_base.py:1208: ConvergenceWarning: Liblinear failed to converge, increase the number of iterations.\n",
            "  ConvergenceWarning,\n",
            "/usr/local/lib/python3.7/dist-packages/sklearn/svm/_base.py:1208: ConvergenceWarning: Liblinear failed to converge, increase the number of iterations.\n",
            "  ConvergenceWarning,\n",
            "/usr/local/lib/python3.7/dist-packages/sklearn/svm/_base.py:1208: ConvergenceWarning: Liblinear failed to converge, increase the number of iterations.\n",
            "  ConvergenceWarning,\n",
            "/usr/local/lib/python3.7/dist-packages/sklearn/svm/_base.py:1208: ConvergenceWarning: Liblinear failed to converge, increase the number of iterations.\n",
            "  ConvergenceWarning,\n",
            "/usr/local/lib/python3.7/dist-packages/sklearn/svm/_base.py:1208: ConvergenceWarning: Liblinear failed to converge, increase the number of iterations.\n",
            "  ConvergenceWarning,\n",
            "/usr/local/lib/python3.7/dist-packages/sklearn/svm/_base.py:1208: ConvergenceWarning: Liblinear failed to converge, increase the number of iterations.\n",
            "  ConvergenceWarning,\n"
          ]
        },
        {
          "output_type": "stream",
          "name": "stdout",
          "text": [
            "STACKING\n",
            "estimator: KNeighborsClassifier\n",
            "              precision    recall  f1-score   support\n",
            "\n",
            "           0       0.63      0.64      0.64      2998\n",
            "           1       0.64      0.63      0.63      3002\n",
            "\n",
            "    accuracy                           0.63      6000\n",
            "   macro avg       0.63      0.63      0.63      6000\n",
            "weighted avg       0.63      0.63      0.63      6000\n",
            "\n",
            "[[1918 1080]\n",
            " [1114 1888]]\n"
          ]
        }
      ]
    },
    {
      "cell_type": "markdown",
      "id": "780dea9d",
      "metadata": {
        "id": "780dea9d"
      },
      "source": [
        "# Предобученная языковая модель/Pretrained language model"
      ]
    },
    {
      "cell_type": "code",
      "execution_count": null,
      "id": "0c9e9125",
      "metadata": {
        "collapsed": true,
        "id": "0c9e9125"
      },
      "outputs": [],
      "source": [
        "model_url = 'http://vectors.nlpl.eu/repository/20/180.zip'"
      ]
    },
    {
      "cell_type": "code",
      "execution_count": null,
      "id": "5787fe8b",
      "metadata": {
        "id": "5787fe8b"
      },
      "outputs": [],
      "source": [
        "import gensim\n",
        "\n",
        "model = gensim.models.KeyedVectors.load_word2vec_format('/content/drive/MyDrive/Распознавание эмоций/model.bin', binary=True)"
      ]
    },
    {
      "cell_type": "code",
      "execution_count": null,
      "id": "5c34b951",
      "metadata": {
        "id": "5c34b951",
        "outputId": "4c8063c1-2da6-4a89-f092-b6c2cbeae4fb",
        "colab": {
          "base_uri": "https://localhost:8080/"
        }
      },
      "outputs": [
        {
          "output_type": "execute_result",
          "data": {
            "text/plain": [
              "                                                  ttext  ttype  \\\n",
              "0     на работе был полный пиддес :| и так каждое за...      0   \n",
              "1     Коллеги сидят рубятся в Urban terror, а я из-з...      0   \n",
              "2     @elina_4post как говорят обещаного три года жд...      0   \n",
              "3     Желаю хорошего полёта и удачной посадки,я буду...      0   \n",
              "4     Обновил за каким-то лешим surf, теперь не рабо...      0   \n",
              "...                                                 ...    ...   \n",
              "1999  уаааа)))))) сейчас около меня прошел паренек с...      1   \n",
              "2000  За монгол коментийн 2 оо vзэж жаахан хэрэгт ду...      1   \n",
              "2001  \"@AdelKhalilova: @Nastasseya @AnuTochkaSavina ...      1   \n",
              "2002  Дим, ты помогаешь мне, я тебе, все взаимно, вс...      1   \n",
              "2003  \"не кисни, еще вспомнишь старого Вачика\" люблю...      1   \n",
              "\n",
              "                                               text_pos  \\\n",
              "0     на_ADP работа_NOUN быть_AUX полный_ADJ пиддо_N...   \n",
              "1     коллега_NOUN сидеть_VERB рубиться_VERB в_ADP u...   \n",
              "2     @elina4post_X как_SCONJ говорить_VERB обещаный...   \n",
              "3     желать_VERB хороший_ADJ полет_NOUN и_CCONJ уда...   \n",
              "4     обновить_VERB за_ADP какой-то_ADJ лешимый_ADJ ...   \n",
              "...                                                 ...   \n",
              "1999  уааа_NOUN сейчас_ADV около_ADP я_PRON проходит...   \n",
              "2000  за_ADP монгол_NOUN коментийн_NOUN x_NUM оо_ADV...   \n",
              "2001  @adelkhalilova_PROPN @nastasseya_PROPN @anutoc...   \n",
              "2002  дима_PROPN ты_PRON помогать_VERB я_PRON я_PRON...   \n",
              "2003  не_PART кисинать_NOUN еще_ADV вспомнить_PART с...   \n",
              "\n",
              "                                                      X  \n",
              "0     [на_ADP, работа_NOUN, быть_AUX, полный_ADJ, пи...  \n",
              "1     [коллега_NOUN, сидеть_VERB, рубиться_VERB, в_A...  \n",
              "2     [@elina4post_X, как_SCONJ, говорить_VERB, обещ...  \n",
              "3     [желать_VERB, хороший_ADJ, полет_NOUN, и_CCONJ...  \n",
              "4     [обновить_VERB, за_ADP, какой-то_ADJ, лешимый_...  \n",
              "...                                                 ...  \n",
              "1999  [уааа_NOUN, сейчас_ADV, около_ADP, я_PRON, про...  \n",
              "2000  [за_ADP, монгол_NOUN, коментийн_NOUN, x_NUM, о...  \n",
              "2001  [@adelkhalilova_PROPN, @nastasseya_PROPN, @anu...  \n",
              "2002  [дима_PROPN, ты_PRON, помогать_VERB, я_PRON, я...  \n",
              "2003  [не_PART, кисинать_NOUN, еще_ADV, вспомнить_PA...  \n",
              "\n",
              "[2004 rows x 4 columns]"
            ],
            "text/html": [
              "\n",
              "  <div id=\"df-ac5a66ab-ede2-4879-8065-83adf9b05726\">\n",
              "    <div class=\"colab-df-container\">\n",
              "      <div>\n",
              "<style scoped>\n",
              "    .dataframe tbody tr th:only-of-type {\n",
              "        vertical-align: middle;\n",
              "    }\n",
              "\n",
              "    .dataframe tbody tr th {\n",
              "        vertical-align: top;\n",
              "    }\n",
              "\n",
              "    .dataframe thead th {\n",
              "        text-align: right;\n",
              "    }\n",
              "</style>\n",
              "<table border=\"1\" class=\"dataframe\">\n",
              "  <thead>\n",
              "    <tr style=\"text-align: right;\">\n",
              "      <th></th>\n",
              "      <th>ttext</th>\n",
              "      <th>ttype</th>\n",
              "      <th>text_pos</th>\n",
              "      <th>X</th>\n",
              "    </tr>\n",
              "  </thead>\n",
              "  <tbody>\n",
              "    <tr>\n",
              "      <th>0</th>\n",
              "      <td>на работе был полный пиддес :| и так каждое за...</td>\n",
              "      <td>0</td>\n",
              "      <td>на_ADP работа_NOUN быть_AUX полный_ADJ пиддо_N...</td>\n",
              "      <td>[на_ADP, работа_NOUN, быть_AUX, полный_ADJ, пи...</td>\n",
              "    </tr>\n",
              "    <tr>\n",
              "      <th>1</th>\n",
              "      <td>Коллеги сидят рубятся в Urban terror, а я из-з...</td>\n",
              "      <td>0</td>\n",
              "      <td>коллега_NOUN сидеть_VERB рубиться_VERB в_ADP u...</td>\n",
              "      <td>[коллега_NOUN, сидеть_VERB, рубиться_VERB, в_A...</td>\n",
              "    </tr>\n",
              "    <tr>\n",
              "      <th>2</th>\n",
              "      <td>@elina_4post как говорят обещаного три года жд...</td>\n",
              "      <td>0</td>\n",
              "      <td>@elina4post_X как_SCONJ говорить_VERB обещаный...</td>\n",
              "      <td>[@elina4post_X, как_SCONJ, говорить_VERB, обещ...</td>\n",
              "    </tr>\n",
              "    <tr>\n",
              "      <th>3</th>\n",
              "      <td>Желаю хорошего полёта и удачной посадки,я буду...</td>\n",
              "      <td>0</td>\n",
              "      <td>желать_VERB хороший_ADJ полет_NOUN и_CCONJ уда...</td>\n",
              "      <td>[желать_VERB, хороший_ADJ, полет_NOUN, и_CCONJ...</td>\n",
              "    </tr>\n",
              "    <tr>\n",
              "      <th>4</th>\n",
              "      <td>Обновил за каким-то лешим surf, теперь не рабо...</td>\n",
              "      <td>0</td>\n",
              "      <td>обновить_VERB за_ADP какой-то_ADJ лешимый_ADJ ...</td>\n",
              "      <td>[обновить_VERB, за_ADP, какой-то_ADJ, лешимый_...</td>\n",
              "    </tr>\n",
              "    <tr>\n",
              "      <th>...</th>\n",
              "      <td>...</td>\n",
              "      <td>...</td>\n",
              "      <td>...</td>\n",
              "      <td>...</td>\n",
              "    </tr>\n",
              "    <tr>\n",
              "      <th>1999</th>\n",
              "      <td>уаааа)))))) сейчас около меня прошел паренек с...</td>\n",
              "      <td>1</td>\n",
              "      <td>уааа_NOUN сейчас_ADV около_ADP я_PRON проходит...</td>\n",
              "      <td>[уааа_NOUN, сейчас_ADV, около_ADP, я_PRON, про...</td>\n",
              "    </tr>\n",
              "    <tr>\n",
              "      <th>2000</th>\n",
              "      <td>За монгол коментийн 2 оо vзэж жаахан хэрэгт ду...</td>\n",
              "      <td>1</td>\n",
              "      <td>за_ADP монгол_NOUN коментийн_NOUN x_NUM оо_ADV...</td>\n",
              "      <td>[за_ADP, монгол_NOUN, коментийн_NOUN, x_NUM, о...</td>\n",
              "    </tr>\n",
              "    <tr>\n",
              "      <th>2001</th>\n",
              "      <td>\"@AdelKhalilova: @Nastasseya @AnuTochkaSavina ...</td>\n",
              "      <td>1</td>\n",
              "      <td>@adelkhalilova_PROPN @nastasseya_PROPN @anutoc...</td>\n",
              "      <td>[@adelkhalilova_PROPN, @nastasseya_PROPN, @anu...</td>\n",
              "    </tr>\n",
              "    <tr>\n",
              "      <th>2002</th>\n",
              "      <td>Дим, ты помогаешь мне, я тебе, все взаимно, вс...</td>\n",
              "      <td>1</td>\n",
              "      <td>дима_PROPN ты_PRON помогать_VERB я_PRON я_PRON...</td>\n",
              "      <td>[дима_PROPN, ты_PRON, помогать_VERB, я_PRON, я...</td>\n",
              "    </tr>\n",
              "    <tr>\n",
              "      <th>2003</th>\n",
              "      <td>\"не кисни, еще вспомнишь старого Вачика\" люблю...</td>\n",
              "      <td>1</td>\n",
              "      <td>не_PART кисинать_NOUN еще_ADV вспомнить_PART с...</td>\n",
              "      <td>[не_PART, кисинать_NOUN, еще_ADV, вспомнить_PA...</td>\n",
              "    </tr>\n",
              "  </tbody>\n",
              "</table>\n",
              "<p>2004 rows × 4 columns</p>\n",
              "</div>\n",
              "      <button class=\"colab-df-convert\" onclick=\"convertToInteractive('df-ac5a66ab-ede2-4879-8065-83adf9b05726')\"\n",
              "              title=\"Convert this dataframe to an interactive table.\"\n",
              "              style=\"display:none;\">\n",
              "        \n",
              "  <svg xmlns=\"http://www.w3.org/2000/svg\" height=\"24px\"viewBox=\"0 0 24 24\"\n",
              "       width=\"24px\">\n",
              "    <path d=\"M0 0h24v24H0V0z\" fill=\"none\"/>\n",
              "    <path d=\"M18.56 5.44l.94 2.06.94-2.06 2.06-.94-2.06-.94-.94-2.06-.94 2.06-2.06.94zm-11 1L8.5 8.5l.94-2.06 2.06-.94-2.06-.94L8.5 2.5l-.94 2.06-2.06.94zm10 10l.94 2.06.94-2.06 2.06-.94-2.06-.94-.94-2.06-.94 2.06-2.06.94z\"/><path d=\"M17.41 7.96l-1.37-1.37c-.4-.4-.92-.59-1.43-.59-.52 0-1.04.2-1.43.59L10.3 9.45l-7.72 7.72c-.78.78-.78 2.05 0 2.83L4 21.41c.39.39.9.59 1.41.59.51 0 1.02-.2 1.41-.59l7.78-7.78 2.81-2.81c.8-.78.8-2.07 0-2.86zM5.41 20L4 18.59l7.72-7.72 1.47 1.35L5.41 20z\"/>\n",
              "  </svg>\n",
              "      </button>\n",
              "      \n",
              "  <style>\n",
              "    .colab-df-container {\n",
              "      display:flex;\n",
              "      flex-wrap:wrap;\n",
              "      gap: 12px;\n",
              "    }\n",
              "\n",
              "    .colab-df-convert {\n",
              "      background-color: #E8F0FE;\n",
              "      border: none;\n",
              "      border-radius: 50%;\n",
              "      cursor: pointer;\n",
              "      display: none;\n",
              "      fill: #1967D2;\n",
              "      height: 32px;\n",
              "      padding: 0 0 0 0;\n",
              "      width: 32px;\n",
              "    }\n",
              "\n",
              "    .colab-df-convert:hover {\n",
              "      background-color: #E2EBFA;\n",
              "      box-shadow: 0px 1px 2px rgba(60, 64, 67, 0.3), 0px 1px 3px 1px rgba(60, 64, 67, 0.15);\n",
              "      fill: #174EA6;\n",
              "    }\n",
              "\n",
              "    [theme=dark] .colab-df-convert {\n",
              "      background-color: #3B4455;\n",
              "      fill: #D2E3FC;\n",
              "    }\n",
              "\n",
              "    [theme=dark] .colab-df-convert:hover {\n",
              "      background-color: #434B5C;\n",
              "      box-shadow: 0px 1px 3px 1px rgba(0, 0, 0, 0.15);\n",
              "      filter: drop-shadow(0px 1px 2px rgba(0, 0, 0, 0.3));\n",
              "      fill: #FFFFFF;\n",
              "    }\n",
              "  </style>\n",
              "\n",
              "      <script>\n",
              "        const buttonEl =\n",
              "          document.querySelector('#df-ac5a66ab-ede2-4879-8065-83adf9b05726 button.colab-df-convert');\n",
              "        buttonEl.style.display =\n",
              "          google.colab.kernel.accessAllowed ? 'block' : 'none';\n",
              "\n",
              "        async function convertToInteractive(key) {\n",
              "          const element = document.querySelector('#df-ac5a66ab-ede2-4879-8065-83adf9b05726');\n",
              "          const dataTable =\n",
              "            await google.colab.kernel.invokeFunction('convertToInteractive',\n",
              "                                                     [key], {});\n",
              "          if (!dataTable) return;\n",
              "\n",
              "          const docLinkHtml = 'Like what you see? Visit the ' +\n",
              "            '<a target=\"_blank\" href=https://colab.research.google.com/notebooks/data_table.ipynb>data table notebook</a>'\n",
              "            + ' to learn more about interactive tables.';\n",
              "          element.innerHTML = '';\n",
              "          dataTable['output_type'] = 'display_data';\n",
              "          await google.colab.output.renderOutput(dataTable, element);\n",
              "          const docLink = document.createElement('div');\n",
              "          docLink.innerHTML = docLinkHtml;\n",
              "          element.appendChild(docLink);\n",
              "        }\n",
              "      </script>\n",
              "    </div>\n",
              "  </div>\n",
              "  "
            ]
          },
          "metadata": {},
          "execution_count": 22
        }
      ],
      "source": [
        "import pickle\n",
        "\n",
        "data = open('/content/drive/MyDrive/Распознавание эмоций/sentiment_POS', 'rb')\n",
        "loaded_data = pickle.load(data)\n",
        "loaded_data"
      ]
    },
    {
      "cell_type": "code",
      "execution_count": null,
      "id": "5f2ba516",
      "metadata": {
        "id": "5f2ba516"
      },
      "outputs": [],
      "source": [
        "import pandas as pd\n",
        "import numpy as np\n",
        "\n",
        "def word_averaging(model, words):\n",
        "    all_words, mean = set(), []\n",
        "\n",
        "    for word in words:\n",
        "        if word in model.key_to_index.keys():\n",
        "            mean.append(model[model.key_to_index[word]])\n",
        "            all_words.add(model.key_to_index[word])\n",
        "        else:\n",
        "            mean.append(np.zeros(w2v_model.vector_size))\n",
        "\n",
        "    mean = gensim.matutils.unitvec(np.array(mean).mean(axis=0)).astype(np.float32)\n",
        "    return mean"
      ]
    },
    {
      "cell_type": "code",
      "execution_count": null,
      "id": "18371992",
      "metadata": {
        "id": "18371992"
      },
      "outputs": [],
      "source": [
        "def word_averaging_list(model, text_list):\n",
        "    return np.vstack([word_averaging(model, comment_text) for comment_text in text_list ])"
      ]
    },
    {
      "cell_type": "code",
      "execution_count": null,
      "id": "c9d62bb0",
      "metadata": {
        "id": "c9d62bb0",
        "outputId": "8edad0b7-5856-4c02-c168-910603d704c7",
        "colab": {
          "base_uri": "https://localhost:8080/"
        }
      },
      "outputs": [
        {
          "output_type": "execute_result",
          "data": {
            "text/plain": [
              "(2004, 300)"
            ]
          },
          "metadata": {},
          "execution_count": 25
        }
      ],
      "source": [
        "y = loaded_data['ttype'].values.tolist()\n",
        "\n",
        "X=loaded_data['X']\n",
        "X = word_averaging_list(model, X)\n",
        "X.shape"
      ]
    },
    {
      "cell_type": "code",
      "execution_count": null,
      "id": "06ab9f74",
      "metadata": {
        "id": "06ab9f74"
      },
      "outputs": [],
      "source": [
        "from sklearn.model_selection import train_test_split\n",
        "\n",
        "X, X_test, y, y_test = train_test_split(X, y, test_size=0.2)"
      ]
    },
    {
      "cell_type": "markdown",
      "source": [
        "# Ансамбли/Ensembles"
      ],
      "metadata": {
        "id": "r--Jq7_-PksY"
      },
      "id": "r--Jq7_-PksY"
    },
    {
      "cell_type": "code",
      "source": [
        "try_ensemble(X, y, X_test, y_test, 40)"
      ],
      "metadata": {
        "colab": {
          "base_uri": "https://localhost:8080/"
        },
        "id": "G0tMh3CPPmtL",
        "outputId": "4d39a70f-2414-477f-8282-7d8a1ba6a788"
      },
      "id": "G0tMh3CPPmtL",
      "execution_count": null,
      "outputs": [
        {
          "output_type": "stream",
          "name": "stdout",
          "text": [
            "ADA BOOST\n",
            "estimator: DecisionTreeClassifier\n",
            "              precision    recall  f1-score   support\n",
            "\n",
            "           0       0.57      0.54      0.55       198\n",
            "           1       0.57      0.60      0.58       203\n",
            "\n",
            "    accuracy                           0.57       401\n",
            "   macro avg       0.57      0.57      0.57       401\n",
            "weighted avg       0.57      0.57      0.57       401\n",
            "\n",
            "[[107  91]\n",
            " [ 82 121]]\n",
            "--------------------------------------------------\n",
            "BAGGING\n",
            "estimator: DecisionTreeClassifier\n",
            "              precision    recall  f1-score   support\n",
            "\n",
            "           0       0.67      0.63      0.65       198\n",
            "           1       0.66      0.70      0.68       203\n",
            "\n",
            "    accuracy                           0.67       401\n",
            "   macro avg       0.67      0.67      0.67       401\n",
            "weighted avg       0.67      0.67      0.67       401\n",
            "\n",
            "[[125  73]\n",
            " [ 61 142]]\n",
            "BAGGING\n",
            "estimator: KNeighborsClassifier\n",
            "              precision    recall  f1-score   support\n",
            "\n",
            "           0       0.55      0.42      0.48       198\n",
            "           1       0.54      0.67      0.60       203\n",
            "\n",
            "    accuracy                           0.55       401\n",
            "   macro avg       0.55      0.54      0.54       401\n",
            "weighted avg       0.55      0.55      0.54       401\n",
            "\n",
            "[[ 83 115]\n",
            " [ 67 136]]\n",
            "--------------------------------------------------\n"
          ]
        },
        {
          "output_type": "stream",
          "name": "stderr",
          "text": [
            "/usr/local/lib/python3.7/dist-packages/sklearn/svm/_base.py:1208: ConvergenceWarning: Liblinear failed to converge, increase the number of iterations.\n",
            "  ConvergenceWarning,\n",
            "/usr/local/lib/python3.7/dist-packages/sklearn/svm/_base.py:1208: ConvergenceWarning: Liblinear failed to converge, increase the number of iterations.\n",
            "  ConvergenceWarning,\n",
            "/usr/local/lib/python3.7/dist-packages/sklearn/svm/_base.py:1208: ConvergenceWarning: Liblinear failed to converge, increase the number of iterations.\n",
            "  ConvergenceWarning,\n",
            "/usr/local/lib/python3.7/dist-packages/sklearn/svm/_base.py:1208: ConvergenceWarning: Liblinear failed to converge, increase the number of iterations.\n",
            "  ConvergenceWarning,\n",
            "/usr/local/lib/python3.7/dist-packages/sklearn/svm/_base.py:1208: ConvergenceWarning: Liblinear failed to converge, increase the number of iterations.\n",
            "  ConvergenceWarning,\n",
            "/usr/local/lib/python3.7/dist-packages/sklearn/svm/_base.py:1208: ConvergenceWarning: Liblinear failed to converge, increase the number of iterations.\n",
            "  ConvergenceWarning,\n"
          ]
        },
        {
          "output_type": "stream",
          "name": "stdout",
          "text": [
            "STACKING\n",
            "estimator: DecisionTreeClassifier\n",
            "              precision    recall  f1-score   support\n",
            "\n",
            "           0       0.65      0.65      0.65       198\n",
            "           1       0.66      0.67      0.66       203\n",
            "\n",
            "    accuracy                           0.66       401\n",
            "   macro avg       0.66      0.66      0.66       401\n",
            "weighted avg       0.66      0.66      0.66       401\n",
            "\n",
            "[[128  70]\n",
            " [ 68 135]]\n"
          ]
        },
        {
          "output_type": "stream",
          "name": "stderr",
          "text": [
            "/usr/local/lib/python3.7/dist-packages/sklearn/svm/_base.py:1208: ConvergenceWarning: Liblinear failed to converge, increase the number of iterations.\n",
            "  ConvergenceWarning,\n",
            "/usr/local/lib/python3.7/dist-packages/sklearn/svm/_base.py:1208: ConvergenceWarning: Liblinear failed to converge, increase the number of iterations.\n",
            "  ConvergenceWarning,\n",
            "/usr/local/lib/python3.7/dist-packages/sklearn/svm/_base.py:1208: ConvergenceWarning: Liblinear failed to converge, increase the number of iterations.\n",
            "  ConvergenceWarning,\n",
            "/usr/local/lib/python3.7/dist-packages/sklearn/svm/_base.py:1208: ConvergenceWarning: Liblinear failed to converge, increase the number of iterations.\n",
            "  ConvergenceWarning,\n",
            "/usr/local/lib/python3.7/dist-packages/sklearn/svm/_base.py:1208: ConvergenceWarning: Liblinear failed to converge, increase the number of iterations.\n",
            "  ConvergenceWarning,\n",
            "/usr/local/lib/python3.7/dist-packages/sklearn/svm/_base.py:1208: ConvergenceWarning: Liblinear failed to converge, increase the number of iterations.\n",
            "  ConvergenceWarning,\n"
          ]
        },
        {
          "output_type": "stream",
          "name": "stdout",
          "text": [
            "STACKING\n",
            "estimator: RandomForestClassifier\n",
            "              precision    recall  f1-score   support\n",
            "\n",
            "           0       0.67      0.66      0.67       198\n",
            "           1       0.67      0.68      0.68       203\n",
            "\n",
            "    accuracy                           0.67       401\n",
            "   macro avg       0.67      0.67      0.67       401\n",
            "weighted avg       0.67      0.67      0.67       401\n",
            "\n",
            "[[131  67]\n",
            " [ 64 139]]\n"
          ]
        },
        {
          "output_type": "stream",
          "name": "stderr",
          "text": [
            "/usr/local/lib/python3.7/dist-packages/sklearn/svm/_base.py:1208: ConvergenceWarning: Liblinear failed to converge, increase the number of iterations.\n",
            "  ConvergenceWarning,\n",
            "/usr/local/lib/python3.7/dist-packages/sklearn/svm/_base.py:1208: ConvergenceWarning: Liblinear failed to converge, increase the number of iterations.\n",
            "  ConvergenceWarning,\n",
            "/usr/local/lib/python3.7/dist-packages/sklearn/svm/_base.py:1208: ConvergenceWarning: Liblinear failed to converge, increase the number of iterations.\n",
            "  ConvergenceWarning,\n",
            "/usr/local/lib/python3.7/dist-packages/sklearn/svm/_base.py:1208: ConvergenceWarning: Liblinear failed to converge, increase the number of iterations.\n",
            "  ConvergenceWarning,\n",
            "/usr/local/lib/python3.7/dist-packages/sklearn/svm/_base.py:1208: ConvergenceWarning: Liblinear failed to converge, increase the number of iterations.\n",
            "  ConvergenceWarning,\n"
          ]
        },
        {
          "output_type": "stream",
          "name": "stdout",
          "text": [
            "STACKING\n",
            "estimator: KNeighborsClassifier\n",
            "              precision    recall  f1-score   support\n",
            "\n",
            "           0       0.64      0.67      0.66       198\n",
            "           1       0.66      0.64      0.65       203\n",
            "\n",
            "    accuracy                           0.65       401\n",
            "   macro avg       0.65      0.65      0.65       401\n",
            "weighted avg       0.65      0.65      0.65       401\n",
            "\n",
            "[[133  65]\n",
            " [ 74 129]]\n"
          ]
        },
        {
          "output_type": "stream",
          "name": "stderr",
          "text": [
            "/usr/local/lib/python3.7/dist-packages/sklearn/svm/_base.py:1208: ConvergenceWarning: Liblinear failed to converge, increase the number of iterations.\n",
            "  ConvergenceWarning,\n"
          ]
        }
      ]
    },
    {
      "cell_type": "code",
      "source": [
        "try_ensemble(X, y, X_test, y_test, 60)"
      ],
      "metadata": {
        "colab": {
          "base_uri": "https://localhost:8080/"
        },
        "id": "OlzG3G9TVGT3",
        "outputId": "3074a282-abbc-4f29-d78a-95df666a930f"
      },
      "id": "OlzG3G9TVGT3",
      "execution_count": null,
      "outputs": [
        {
          "output_type": "stream",
          "name": "stdout",
          "text": [
            "ADA BOOST\n",
            "estimator: DecisionTreeClassifier\n",
            "              precision    recall  f1-score   support\n",
            "\n",
            "           0       0.58      0.62      0.60       198\n",
            "           1       0.60      0.56      0.58       203\n",
            "\n",
            "    accuracy                           0.59       401\n",
            "   macro avg       0.59      0.59      0.59       401\n",
            "weighted avg       0.59      0.59      0.59       401\n",
            "\n",
            "[[122  76]\n",
            " [ 89 114]]\n",
            "--------------------------------------------------\n",
            "BAGGING\n",
            "estimator: DecisionTreeClassifier\n",
            "              precision    recall  f1-score   support\n",
            "\n",
            "           0       0.65      0.64      0.64       198\n",
            "           1       0.65      0.66      0.66       203\n",
            "\n",
            "    accuracy                           0.65       401\n",
            "   macro avg       0.65      0.65      0.65       401\n",
            "weighted avg       0.65      0.65      0.65       401\n",
            "\n",
            "[[126  72]\n",
            " [ 69 134]]\n",
            "BAGGING\n",
            "estimator: KNeighborsClassifier\n",
            "              precision    recall  f1-score   support\n",
            "\n",
            "           0       0.56      0.42      0.48       198\n",
            "           1       0.54      0.67      0.60       203\n",
            "\n",
            "    accuracy                           0.55       401\n",
            "   macro avg       0.55      0.55      0.54       401\n",
            "weighted avg       0.55      0.55      0.54       401\n",
            "\n",
            "[[ 84 114]\n",
            " [ 67 136]]\n",
            "--------------------------------------------------\n"
          ]
        },
        {
          "output_type": "stream",
          "name": "stderr",
          "text": [
            "/usr/local/lib/python3.7/dist-packages/sklearn/svm/_base.py:1208: ConvergenceWarning: Liblinear failed to converge, increase the number of iterations.\n",
            "  ConvergenceWarning,\n",
            "/usr/local/lib/python3.7/dist-packages/sklearn/svm/_base.py:1208: ConvergenceWarning: Liblinear failed to converge, increase the number of iterations.\n",
            "  ConvergenceWarning,\n",
            "/usr/local/lib/python3.7/dist-packages/sklearn/svm/_base.py:1208: ConvergenceWarning: Liblinear failed to converge, increase the number of iterations.\n",
            "  ConvergenceWarning,\n",
            "/usr/local/lib/python3.7/dist-packages/sklearn/svm/_base.py:1208: ConvergenceWarning: Liblinear failed to converge, increase the number of iterations.\n",
            "  ConvergenceWarning,\n",
            "/usr/local/lib/python3.7/dist-packages/sklearn/svm/_base.py:1208: ConvergenceWarning: Liblinear failed to converge, increase the number of iterations.\n",
            "  ConvergenceWarning,\n",
            "/usr/local/lib/python3.7/dist-packages/sklearn/svm/_base.py:1208: ConvergenceWarning: Liblinear failed to converge, increase the number of iterations.\n",
            "  ConvergenceWarning,\n"
          ]
        },
        {
          "output_type": "stream",
          "name": "stdout",
          "text": [
            "STACKING\n",
            "estimator: DecisionTreeClassifier\n",
            "              precision    recall  f1-score   support\n",
            "\n",
            "           0       0.65      0.65      0.65       198\n",
            "           1       0.66      0.67      0.66       203\n",
            "\n",
            "    accuracy                           0.66       401\n",
            "   macro avg       0.66      0.66      0.66       401\n",
            "weighted avg       0.66      0.66      0.66       401\n",
            "\n",
            "[[128  70]\n",
            " [ 68 135]]\n"
          ]
        },
        {
          "output_type": "stream",
          "name": "stderr",
          "text": [
            "/usr/local/lib/python3.7/dist-packages/sklearn/svm/_base.py:1208: ConvergenceWarning: Liblinear failed to converge, increase the number of iterations.\n",
            "  ConvergenceWarning,\n",
            "/usr/local/lib/python3.7/dist-packages/sklearn/svm/_base.py:1208: ConvergenceWarning: Liblinear failed to converge, increase the number of iterations.\n",
            "  ConvergenceWarning,\n",
            "/usr/local/lib/python3.7/dist-packages/sklearn/svm/_base.py:1208: ConvergenceWarning: Liblinear failed to converge, increase the number of iterations.\n",
            "  ConvergenceWarning,\n",
            "/usr/local/lib/python3.7/dist-packages/sklearn/svm/_base.py:1208: ConvergenceWarning: Liblinear failed to converge, increase the number of iterations.\n",
            "  ConvergenceWarning,\n",
            "/usr/local/lib/python3.7/dist-packages/sklearn/svm/_base.py:1208: ConvergenceWarning: Liblinear failed to converge, increase the number of iterations.\n",
            "  ConvergenceWarning,\n",
            "/usr/local/lib/python3.7/dist-packages/sklearn/svm/_base.py:1208: ConvergenceWarning: Liblinear failed to converge, increase the number of iterations.\n",
            "  ConvergenceWarning,\n"
          ]
        },
        {
          "output_type": "stream",
          "name": "stdout",
          "text": [
            "STACKING\n",
            "estimator: RandomForestClassifier\n",
            "              precision    recall  f1-score   support\n",
            "\n",
            "           0       0.66      0.66      0.66       198\n",
            "           1       0.67      0.67      0.67       203\n",
            "\n",
            "    accuracy                           0.66       401\n",
            "   macro avg       0.66      0.66      0.66       401\n",
            "weighted avg       0.66      0.66      0.66       401\n",
            "\n",
            "[[131  67]\n",
            " [ 68 135]]\n"
          ]
        },
        {
          "output_type": "stream",
          "name": "stderr",
          "text": [
            "/usr/local/lib/python3.7/dist-packages/sklearn/svm/_base.py:1208: ConvergenceWarning: Liblinear failed to converge, increase the number of iterations.\n",
            "  ConvergenceWarning,\n",
            "/usr/local/lib/python3.7/dist-packages/sklearn/svm/_base.py:1208: ConvergenceWarning: Liblinear failed to converge, increase the number of iterations.\n",
            "  ConvergenceWarning,\n",
            "/usr/local/lib/python3.7/dist-packages/sklearn/svm/_base.py:1208: ConvergenceWarning: Liblinear failed to converge, increase the number of iterations.\n",
            "  ConvergenceWarning,\n",
            "/usr/local/lib/python3.7/dist-packages/sklearn/svm/_base.py:1208: ConvergenceWarning: Liblinear failed to converge, increase the number of iterations.\n",
            "  ConvergenceWarning,\n",
            "/usr/local/lib/python3.7/dist-packages/sklearn/svm/_base.py:1208: ConvergenceWarning: Liblinear failed to converge, increase the number of iterations.\n",
            "  ConvergenceWarning,\n"
          ]
        },
        {
          "output_type": "stream",
          "name": "stdout",
          "text": [
            "STACKING\n",
            "estimator: KNeighborsClassifier\n",
            "              precision    recall  f1-score   support\n",
            "\n",
            "           0       0.64      0.67      0.66       198\n",
            "           1       0.66      0.64      0.65       203\n",
            "\n",
            "    accuracy                           0.65       401\n",
            "   macro avg       0.65      0.65      0.65       401\n",
            "weighted avg       0.65      0.65      0.65       401\n",
            "\n",
            "[[133  65]\n",
            " [ 74 129]]\n"
          ]
        },
        {
          "output_type": "stream",
          "name": "stderr",
          "text": [
            "/usr/local/lib/python3.7/dist-packages/sklearn/svm/_base.py:1208: ConvergenceWarning: Liblinear failed to converge, increase the number of iterations.\n",
            "  ConvergenceWarning,\n"
          ]
        }
      ]
    },
    {
      "cell_type": "code",
      "source": [
        "try_ensemble(X, y, X_test, y_test, 20)"
      ],
      "metadata": {
        "colab": {
          "base_uri": "https://localhost:8080/"
        },
        "id": "7r4TdfGhVHZa",
        "outputId": "9d6174ad-4d92-4dcd-faa2-7f8a500d5252"
      },
      "id": "7r4TdfGhVHZa",
      "execution_count": null,
      "outputs": [
        {
          "output_type": "stream",
          "name": "stdout",
          "text": [
            "ADA BOOST\n",
            "estimator: DecisionTreeClassifier\n",
            "              precision    recall  f1-score   support\n",
            "\n",
            "           0       0.55      0.52      0.53       198\n",
            "           1       0.56      0.60      0.58       203\n",
            "\n",
            "    accuracy                           0.56       401\n",
            "   macro avg       0.56      0.56      0.56       401\n",
            "weighted avg       0.56      0.56      0.56       401\n",
            "\n",
            "[[102  96]\n",
            " [ 82 121]]\n",
            "--------------------------------------------------\n",
            "BAGGING\n",
            "estimator: DecisionTreeClassifier\n",
            "              precision    recall  f1-score   support\n",
            "\n",
            "           0       0.66      0.64      0.65       198\n",
            "           1       0.66      0.68      0.67       203\n",
            "\n",
            "    accuracy                           0.66       401\n",
            "   macro avg       0.66      0.66      0.66       401\n",
            "weighted avg       0.66      0.66      0.66       401\n",
            "\n",
            "[[126  72]\n",
            " [ 65 138]]\n",
            "BAGGING\n",
            "estimator: KNeighborsClassifier\n",
            "              precision    recall  f1-score   support\n",
            "\n",
            "           0       0.55      0.41      0.47       198\n",
            "           1       0.54      0.68      0.60       203\n",
            "\n",
            "    accuracy                           0.55       401\n",
            "   macro avg       0.55      0.54      0.54       401\n",
            "weighted avg       0.55      0.55      0.54       401\n",
            "\n",
            "[[ 81 117]\n",
            " [ 65 138]]\n",
            "--------------------------------------------------\n"
          ]
        },
        {
          "output_type": "stream",
          "name": "stderr",
          "text": [
            "/usr/local/lib/python3.7/dist-packages/sklearn/svm/_base.py:1208: ConvergenceWarning: Liblinear failed to converge, increase the number of iterations.\n",
            "  ConvergenceWarning,\n",
            "/usr/local/lib/python3.7/dist-packages/sklearn/svm/_base.py:1208: ConvergenceWarning: Liblinear failed to converge, increase the number of iterations.\n",
            "  ConvergenceWarning,\n",
            "/usr/local/lib/python3.7/dist-packages/sklearn/svm/_base.py:1208: ConvergenceWarning: Liblinear failed to converge, increase the number of iterations.\n",
            "  ConvergenceWarning,\n",
            "/usr/local/lib/python3.7/dist-packages/sklearn/svm/_base.py:1208: ConvergenceWarning: Liblinear failed to converge, increase the number of iterations.\n",
            "  ConvergenceWarning,\n",
            "/usr/local/lib/python3.7/dist-packages/sklearn/svm/_base.py:1208: ConvergenceWarning: Liblinear failed to converge, increase the number of iterations.\n",
            "  ConvergenceWarning,\n",
            "/usr/local/lib/python3.7/dist-packages/sklearn/svm/_base.py:1208: ConvergenceWarning: Liblinear failed to converge, increase the number of iterations.\n",
            "  ConvergenceWarning,\n"
          ]
        },
        {
          "output_type": "stream",
          "name": "stdout",
          "text": [
            "STACKING\n",
            "estimator: DecisionTreeClassifier\n",
            "              precision    recall  f1-score   support\n",
            "\n",
            "           0       0.66      0.65      0.65       198\n",
            "           1       0.66      0.67      0.67       203\n",
            "\n",
            "    accuracy                           0.66       401\n",
            "   macro avg       0.66      0.66      0.66       401\n",
            "weighted avg       0.66      0.66      0.66       401\n",
            "\n",
            "[[128  70]\n",
            " [ 67 136]]\n"
          ]
        },
        {
          "output_type": "stream",
          "name": "stderr",
          "text": [
            "/usr/local/lib/python3.7/dist-packages/sklearn/svm/_base.py:1208: ConvergenceWarning: Liblinear failed to converge, increase the number of iterations.\n",
            "  ConvergenceWarning,\n",
            "/usr/local/lib/python3.7/dist-packages/sklearn/svm/_base.py:1208: ConvergenceWarning: Liblinear failed to converge, increase the number of iterations.\n",
            "  ConvergenceWarning,\n",
            "/usr/local/lib/python3.7/dist-packages/sklearn/svm/_base.py:1208: ConvergenceWarning: Liblinear failed to converge, increase the number of iterations.\n",
            "  ConvergenceWarning,\n",
            "/usr/local/lib/python3.7/dist-packages/sklearn/svm/_base.py:1208: ConvergenceWarning: Liblinear failed to converge, increase the number of iterations.\n",
            "  ConvergenceWarning,\n",
            "/usr/local/lib/python3.7/dist-packages/sklearn/svm/_base.py:1208: ConvergenceWarning: Liblinear failed to converge, increase the number of iterations.\n",
            "  ConvergenceWarning,\n",
            "/usr/local/lib/python3.7/dist-packages/sklearn/svm/_base.py:1208: ConvergenceWarning: Liblinear failed to converge, increase the number of iterations.\n",
            "  ConvergenceWarning,\n"
          ]
        },
        {
          "output_type": "stream",
          "name": "stdout",
          "text": [
            "STACKING\n",
            "estimator: RandomForestClassifier\n",
            "              precision    recall  f1-score   support\n",
            "\n",
            "           0       0.65      0.67      0.66       198\n",
            "           1       0.66      0.65      0.65       203\n",
            "\n",
            "    accuracy                           0.66       401\n",
            "   macro avg       0.66      0.66      0.66       401\n",
            "weighted avg       0.66      0.66      0.66       401\n",
            "\n",
            "[[132  66]\n",
            " [ 72 131]]\n"
          ]
        },
        {
          "output_type": "stream",
          "name": "stderr",
          "text": [
            "/usr/local/lib/python3.7/dist-packages/sklearn/svm/_base.py:1208: ConvergenceWarning: Liblinear failed to converge, increase the number of iterations.\n",
            "  ConvergenceWarning,\n",
            "/usr/local/lib/python3.7/dist-packages/sklearn/svm/_base.py:1208: ConvergenceWarning: Liblinear failed to converge, increase the number of iterations.\n",
            "  ConvergenceWarning,\n",
            "/usr/local/lib/python3.7/dist-packages/sklearn/svm/_base.py:1208: ConvergenceWarning: Liblinear failed to converge, increase the number of iterations.\n",
            "  ConvergenceWarning,\n",
            "/usr/local/lib/python3.7/dist-packages/sklearn/svm/_base.py:1208: ConvergenceWarning: Liblinear failed to converge, increase the number of iterations.\n",
            "  ConvergenceWarning,\n",
            "/usr/local/lib/python3.7/dist-packages/sklearn/svm/_base.py:1208: ConvergenceWarning: Liblinear failed to converge, increase the number of iterations.\n",
            "  ConvergenceWarning,\n"
          ]
        },
        {
          "output_type": "stream",
          "name": "stdout",
          "text": [
            "STACKING\n",
            "estimator: KNeighborsClassifier\n",
            "              precision    recall  f1-score   support\n",
            "\n",
            "           0       0.64      0.67      0.66       198\n",
            "           1       0.66      0.64      0.65       203\n",
            "\n",
            "    accuracy                           0.65       401\n",
            "   macro avg       0.65      0.65      0.65       401\n",
            "weighted avg       0.65      0.65      0.65       401\n",
            "\n",
            "[[133  65]\n",
            " [ 74 129]]\n"
          ]
        },
        {
          "output_type": "stream",
          "name": "stderr",
          "text": [
            "/usr/local/lib/python3.7/dist-packages/sklearn/svm/_base.py:1208: ConvergenceWarning: Liblinear failed to converge, increase the number of iterations.\n",
            "  ConvergenceWarning,\n"
          ]
        }
      ]
    },
    {
      "cell_type": "code",
      "source": [
        "try_ensemble(X, y, X_test, y_test, 100)"
      ],
      "metadata": {
        "colab": {
          "base_uri": "https://localhost:8080/"
        },
        "id": "sp5aCGmeVnt_",
        "outputId": "9129e8c3-89d7-4638-ca42-27fb43de7cb7"
      },
      "id": "sp5aCGmeVnt_",
      "execution_count": null,
      "outputs": [
        {
          "output_type": "stream",
          "name": "stdout",
          "text": [
            "ADA BOOST\n",
            "estimator: DecisionTreeClassifier\n",
            "              precision    recall  f1-score   support\n",
            "\n",
            "           0       0.60      0.58      0.59       198\n",
            "           1       0.60      0.63      0.61       203\n",
            "\n",
            "    accuracy                           0.60       401\n",
            "   macro avg       0.60      0.60      0.60       401\n",
            "weighted avg       0.60      0.60      0.60       401\n",
            "\n",
            "[[114  84]\n",
            " [ 76 127]]\n",
            "--------------------------------------------------\n",
            "BAGGING\n",
            "estimator: DecisionTreeClassifier\n",
            "              precision    recall  f1-score   support\n",
            "\n",
            "           0       0.67      0.64      0.65       198\n",
            "           1       0.66      0.69      0.68       203\n",
            "\n",
            "    accuracy                           0.67       401\n",
            "   macro avg       0.67      0.67      0.67       401\n",
            "weighted avg       0.67      0.67      0.67       401\n",
            "\n",
            "[[127  71]\n",
            " [ 63 140]]\n",
            "BAGGING\n",
            "estimator: KNeighborsClassifier\n",
            "              precision    recall  f1-score   support\n",
            "\n",
            "           0       0.57      0.43      0.49       198\n",
            "           1       0.55      0.68      0.61       203\n",
            "\n",
            "    accuracy                           0.56       401\n",
            "   macro avg       0.56      0.56      0.55       401\n",
            "weighted avg       0.56      0.56      0.55       401\n",
            "\n",
            "[[ 86 112]\n",
            " [ 65 138]]\n",
            "--------------------------------------------------\n"
          ]
        },
        {
          "output_type": "stream",
          "name": "stderr",
          "text": [
            "/usr/local/lib/python3.7/dist-packages/sklearn/svm/_base.py:1208: ConvergenceWarning: Liblinear failed to converge, increase the number of iterations.\n",
            "  ConvergenceWarning,\n",
            "/usr/local/lib/python3.7/dist-packages/sklearn/svm/_base.py:1208: ConvergenceWarning: Liblinear failed to converge, increase the number of iterations.\n",
            "  ConvergenceWarning,\n",
            "/usr/local/lib/python3.7/dist-packages/sklearn/svm/_base.py:1208: ConvergenceWarning: Liblinear failed to converge, increase the number of iterations.\n",
            "  ConvergenceWarning,\n",
            "/usr/local/lib/python3.7/dist-packages/sklearn/svm/_base.py:1208: ConvergenceWarning: Liblinear failed to converge, increase the number of iterations.\n",
            "  ConvergenceWarning,\n",
            "/usr/local/lib/python3.7/dist-packages/sklearn/svm/_base.py:1208: ConvergenceWarning: Liblinear failed to converge, increase the number of iterations.\n",
            "  ConvergenceWarning,\n",
            "/usr/local/lib/python3.7/dist-packages/sklearn/svm/_base.py:1208: ConvergenceWarning: Liblinear failed to converge, increase the number of iterations.\n",
            "  ConvergenceWarning,\n"
          ]
        },
        {
          "output_type": "stream",
          "name": "stdout",
          "text": [
            "STACKING\n",
            "estimator: DecisionTreeClassifier\n",
            "              precision    recall  f1-score   support\n",
            "\n",
            "           0       0.65      0.64      0.65       198\n",
            "           1       0.66      0.67      0.66       203\n",
            "\n",
            "    accuracy                           0.65       401\n",
            "   macro avg       0.65      0.65      0.65       401\n",
            "weighted avg       0.65      0.65      0.65       401\n",
            "\n",
            "[[127  71]\n",
            " [ 68 135]]\n"
          ]
        },
        {
          "output_type": "stream",
          "name": "stderr",
          "text": [
            "/usr/local/lib/python3.7/dist-packages/sklearn/svm/_base.py:1208: ConvergenceWarning: Liblinear failed to converge, increase the number of iterations.\n",
            "  ConvergenceWarning,\n",
            "/usr/local/lib/python3.7/dist-packages/sklearn/svm/_base.py:1208: ConvergenceWarning: Liblinear failed to converge, increase the number of iterations.\n",
            "  ConvergenceWarning,\n",
            "/usr/local/lib/python3.7/dist-packages/sklearn/svm/_base.py:1208: ConvergenceWarning: Liblinear failed to converge, increase the number of iterations.\n",
            "  ConvergenceWarning,\n",
            "/usr/local/lib/python3.7/dist-packages/sklearn/svm/_base.py:1208: ConvergenceWarning: Liblinear failed to converge, increase the number of iterations.\n",
            "  ConvergenceWarning,\n",
            "/usr/local/lib/python3.7/dist-packages/sklearn/svm/_base.py:1208: ConvergenceWarning: Liblinear failed to converge, increase the number of iterations.\n",
            "  ConvergenceWarning,\n",
            "/usr/local/lib/python3.7/dist-packages/sklearn/svm/_base.py:1208: ConvergenceWarning: Liblinear failed to converge, increase the number of iterations.\n",
            "  ConvergenceWarning,\n"
          ]
        },
        {
          "output_type": "stream",
          "name": "stdout",
          "text": [
            "STACKING\n",
            "estimator: RandomForestClassifier\n",
            "              precision    recall  f1-score   support\n",
            "\n",
            "           0       0.68      0.66      0.67       198\n",
            "           1       0.67      0.69      0.68       203\n",
            "\n",
            "    accuracy                           0.68       401\n",
            "   macro avg       0.68      0.68      0.68       401\n",
            "weighted avg       0.68      0.68      0.68       401\n",
            "\n",
            "[[130  68]\n",
            " [ 62 141]]\n"
          ]
        },
        {
          "output_type": "stream",
          "name": "stderr",
          "text": [
            "/usr/local/lib/python3.7/dist-packages/sklearn/svm/_base.py:1208: ConvergenceWarning: Liblinear failed to converge, increase the number of iterations.\n",
            "  ConvergenceWarning,\n",
            "/usr/local/lib/python3.7/dist-packages/sklearn/svm/_base.py:1208: ConvergenceWarning: Liblinear failed to converge, increase the number of iterations.\n",
            "  ConvergenceWarning,\n",
            "/usr/local/lib/python3.7/dist-packages/sklearn/svm/_base.py:1208: ConvergenceWarning: Liblinear failed to converge, increase the number of iterations.\n",
            "  ConvergenceWarning,\n",
            "/usr/local/lib/python3.7/dist-packages/sklearn/svm/_base.py:1208: ConvergenceWarning: Liblinear failed to converge, increase the number of iterations.\n",
            "  ConvergenceWarning,\n",
            "/usr/local/lib/python3.7/dist-packages/sklearn/svm/_base.py:1208: ConvergenceWarning: Liblinear failed to converge, increase the number of iterations.\n",
            "  ConvergenceWarning,\n"
          ]
        },
        {
          "output_type": "stream",
          "name": "stdout",
          "text": [
            "STACKING\n",
            "estimator: KNeighborsClassifier\n",
            "              precision    recall  f1-score   support\n",
            "\n",
            "           0       0.64      0.67      0.66       198\n",
            "           1       0.66      0.64      0.65       203\n",
            "\n",
            "    accuracy                           0.65       401\n",
            "   macro avg       0.65      0.65      0.65       401\n",
            "weighted avg       0.65      0.65      0.65       401\n",
            "\n",
            "[[133  65]\n",
            " [ 74 129]]\n"
          ]
        },
        {
          "output_type": "stream",
          "name": "stderr",
          "text": [
            "/usr/local/lib/python3.7/dist-packages/sklearn/svm/_base.py:1208: ConvergenceWarning: Liblinear failed to converge, increase the number of iterations.\n",
            "  ConvergenceWarning,\n"
          ]
        }
      ]
    },
    {
      "cell_type": "markdown",
      "id": "5950facf",
      "metadata": {
        "id": "5950facf"
      },
      "source": [
        "# Выводы/Conclusion"
      ]
    },
    {
      "cell_type": "markdown",
      "source": [
        "Было обучено множество моделей на основе Net (описана в пункте Перебор параметров) с перебором параметров для обучения. Обучение проводилось на признаках, выделенных с помощью обученной модели и предобученной.\n",
        "\n",
        "Many Net-based models were trained (described in Parametric Brute Force) with parameter brute force training. The training was carried out on features extracted using the trained model and the pre-trained one.\n",
        "\n",
        "## Результаты предобученной модели/Pretrainied model results\n",
        "\n",
        "| Features | Ensemble | n_estimators | Model | F1 score |\n",
        "|----------|----------|--------------|-------|----------|\n",
        "| pretrained w2v | STACKING | 100 | RandomForestClassifier | 0.68 |\n",
        "| pretrained w2v | STACKING | 40 | RandomForestClassifier | 0.67 |\n",
        "| pretrained w2v | BAGGING | 20 | DecisionTreeClassifier | 0.66 |\n",
        "\n",
        "## Результаты обученной модели/Trainied model results\n",
        "\n",
        "| Features | Ensemble | n_estimators | Model | F1 score |\n",
        "|----------|----------|--------------|-------|----------|\n",
        "| w2v | STACKING | 100 | RandomForestClassifier | 0.67 |\n",
        "| w2v | STACKING | 60 | RandomForestClassifier | 0.66 |\n",
        "| w2v | BAGGING | 100 | DecisionTreeClassifier | 0.64 |"
      ],
      "metadata": {
        "id": "-1O-VYAX1eZk"
      },
      "id": "-1O-VYAX1eZk"
    },
    {
      "cell_type": "code",
      "execution_count": null,
      "id": "c466401a",
      "metadata": {
        "id": "c466401a"
      },
      "outputs": [],
      "source": []
    }
  ],
  "metadata": {
    "kernelspec": {
      "display_name": "Python 3 (ipykernel)",
      "language": "python",
      "name": "python3"
    },
    "language_info": {
      "codemirror_mode": {
        "name": "ipython",
        "version": 3
      },
      "file_extension": ".py",
      "mimetype": "text/x-python",
      "name": "python",
      "nbconvert_exporter": "python",
      "pygments_lexer": "ipython3",
      "version": "3.9.7"
    },
    "colab": {
      "provenance": [],
      "collapsed_sections": [
        "ed53763a",
        "c9c9ee2f",
        "780dea9d",
        "r--Jq7_-PksY"
      ],
      "include_colab_link": true
    }
  },
  "nbformat": 4,
  "nbformat_minor": 5
}
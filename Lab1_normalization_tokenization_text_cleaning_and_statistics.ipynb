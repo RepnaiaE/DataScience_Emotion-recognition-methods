{
  "cells": [
    {
      "cell_type": "markdown",
      "metadata": {
        "id": "view-in-github",
        "colab_type": "text"
      },
      "source": [
        "<a href=\"https://colab.research.google.com/github/RepnaiaE/DataScience_Emotion-recognition-methods/blob/main/Lab1_normalization_tokenization_text_cleaning_and_statistics.ipynb\" target=\"_parent\"><img src=\"https://colab.research.google.com/assets/colab-badge.svg\" alt=\"Open In Colab\"/></a>"
      ]
    },
    {
      "cell_type": "markdown",
      "source": [
        "# Элементы языка Python: базовые операторы, структуры данных и функции. Обзор прикладных пакетов для решения задач анализа речи и текстов. Знакомство с библиотеками re, NLTK, pymorphy2, pymystem3.\n"
      ],
      "metadata": {
        "id": "UKpp-LQuxOqU"
      }
    },
    {
      "cell_type": "markdown",
      "metadata": {
        "id": "n1o2IsapvdYV"
      },
      "source": [
        "# 1 Загрузка корпусов"
      ]
    },
    {
      "cell_type": "code",
      "execution_count": null,
      "metadata": {
        "colab": {
          "base_uri": "https://localhost:8080/",
          "height": 206
        },
        "id": "kR61vdoRvrFR",
        "outputId": "35dbc058-0f74-4d51-ccb7-2fbe0e35e22e"
      },
      "outputs": [
        {
          "data": {
            "text/html": [
              "\n",
              "  <div id=\"df-d904b43e-97ab-448d-abe4-9ef834c02d85\">\n",
              "    <div class=\"colab-df-container\">\n",
              "      <div>\n",
              "<style scoped>\n",
              "    .dataframe tbody tr th:only-of-type {\n",
              "        vertical-align: middle;\n",
              "    }\n",
              "\n",
              "    .dataframe tbody tr th {\n",
              "        vertical-align: top;\n",
              "    }\n",
              "\n",
              "    .dataframe thead th {\n",
              "        text-align: right;\n",
              "    }\n",
              "</style>\n",
              "<table border=\"1\" class=\"dataframe\">\n",
              "  <thead>\n",
              "    <tr style=\"text-align: right;\">\n",
              "      <th></th>\n",
              "      <th>id</th>\n",
              "      <th>tdate</th>\n",
              "      <th>tname</th>\n",
              "      <th>ttext</th>\n",
              "      <th>ttype</th>\n",
              "      <th>trep</th>\n",
              "      <th>trtv</th>\n",
              "      <th>tfav</th>\n",
              "      <th>tstcount</th>\n",
              "      <th>tfol</th>\n",
              "      <th>tfrien</th>\n",
              "      <th>listcount</th>\n",
              "    </tr>\n",
              "  </thead>\n",
              "  <tbody>\n",
              "    <tr>\n",
              "      <th>0</th>\n",
              "      <td>408906762813579264</td>\n",
              "      <td>1386325944</td>\n",
              "      <td>dugarchikbellko</td>\n",
              "      <td>на работе был полный пиддес :| и так каждое за...</td>\n",
              "      <td>-1</td>\n",
              "      <td>0</td>\n",
              "      <td>0</td>\n",
              "      <td>0</td>\n",
              "      <td>8064</td>\n",
              "      <td>111</td>\n",
              "      <td>94</td>\n",
              "      <td>2</td>\n",
              "    </tr>\n",
              "    <tr>\n",
              "      <th>1</th>\n",
              "      <td>408906818262687744</td>\n",
              "      <td>1386325957</td>\n",
              "      <td>nugemycejela</td>\n",
              "      <td>Коллеги сидят рубятся в Urban terror, а я из-з...</td>\n",
              "      <td>-1</td>\n",
              "      <td>0</td>\n",
              "      <td>0</td>\n",
              "      <td>0</td>\n",
              "      <td>26</td>\n",
              "      <td>42</td>\n",
              "      <td>39</td>\n",
              "      <td>0</td>\n",
              "    </tr>\n",
              "    <tr>\n",
              "      <th>2</th>\n",
              "      <td>408906858515398656</td>\n",
              "      <td>1386325966</td>\n",
              "      <td>4post21</td>\n",
              "      <td>@elina_4post как говорят обещаного три года жд...</td>\n",
              "      <td>-1</td>\n",
              "      <td>0</td>\n",
              "      <td>0</td>\n",
              "      <td>0</td>\n",
              "      <td>718</td>\n",
              "      <td>49</td>\n",
              "      <td>249</td>\n",
              "      <td>0</td>\n",
              "    </tr>\n",
              "    <tr>\n",
              "      <th>3</th>\n",
              "      <td>408906914437685248</td>\n",
              "      <td>1386325980</td>\n",
              "      <td>Poliwake</td>\n",
              "      <td>Желаю хорошего полёта и удачной посадки,я буду...</td>\n",
              "      <td>-1</td>\n",
              "      <td>0</td>\n",
              "      <td>0</td>\n",
              "      <td>0</td>\n",
              "      <td>10628</td>\n",
              "      <td>207</td>\n",
              "      <td>200</td>\n",
              "      <td>0</td>\n",
              "    </tr>\n",
              "    <tr>\n",
              "      <th>4</th>\n",
              "      <td>408906914723295232</td>\n",
              "      <td>1386325980</td>\n",
              "      <td>capyvixowe</td>\n",
              "      <td>Обновил за каким-то лешим surf, теперь не рабо...</td>\n",
              "      <td>-1</td>\n",
              "      <td>0</td>\n",
              "      <td>0</td>\n",
              "      <td>0</td>\n",
              "      <td>35</td>\n",
              "      <td>17</td>\n",
              "      <td>34</td>\n",
              "      <td>0</td>\n",
              "    </tr>\n",
              "  </tbody>\n",
              "</table>\n",
              "</div>\n",
              "      <button class=\"colab-df-convert\" onclick=\"convertToInteractive('df-d904b43e-97ab-448d-abe4-9ef834c02d85')\"\n",
              "              title=\"Convert this dataframe to an interactive table.\"\n",
              "              style=\"display:none;\">\n",
              "        \n",
              "  <svg xmlns=\"http://www.w3.org/2000/svg\" height=\"24px\"viewBox=\"0 0 24 24\"\n",
              "       width=\"24px\">\n",
              "    <path d=\"M0 0h24v24H0V0z\" fill=\"none\"/>\n",
              "    <path d=\"M18.56 5.44l.94 2.06.94-2.06 2.06-.94-2.06-.94-.94-2.06-.94 2.06-2.06.94zm-11 1L8.5 8.5l.94-2.06 2.06-.94-2.06-.94L8.5 2.5l-.94 2.06-2.06.94zm10 10l.94 2.06.94-2.06 2.06-.94-2.06-.94-.94-2.06-.94 2.06-2.06.94z\"/><path d=\"M17.41 7.96l-1.37-1.37c-.4-.4-.92-.59-1.43-.59-.52 0-1.04.2-1.43.59L10.3 9.45l-7.72 7.72c-.78.78-.78 2.05 0 2.83L4 21.41c.39.39.9.59 1.41.59.51 0 1.02-.2 1.41-.59l7.78-7.78 2.81-2.81c.8-.78.8-2.07 0-2.86zM5.41 20L4 18.59l7.72-7.72 1.47 1.35L5.41 20z\"/>\n",
              "  </svg>\n",
              "      </button>\n",
              "      \n",
              "  <style>\n",
              "    .colab-df-container {\n",
              "      display:flex;\n",
              "      flex-wrap:wrap;\n",
              "      gap: 12px;\n",
              "    }\n",
              "\n",
              "    .colab-df-convert {\n",
              "      background-color: #E8F0FE;\n",
              "      border: none;\n",
              "      border-radius: 50%;\n",
              "      cursor: pointer;\n",
              "      display: none;\n",
              "      fill: #1967D2;\n",
              "      height: 32px;\n",
              "      padding: 0 0 0 0;\n",
              "      width: 32px;\n",
              "    }\n",
              "\n",
              "    .colab-df-convert:hover {\n",
              "      background-color: #E2EBFA;\n",
              "      box-shadow: 0px 1px 2px rgba(60, 64, 67, 0.3), 0px 1px 3px 1px rgba(60, 64, 67, 0.15);\n",
              "      fill: #174EA6;\n",
              "    }\n",
              "\n",
              "    [theme=dark] .colab-df-convert {\n",
              "      background-color: #3B4455;\n",
              "      fill: #D2E3FC;\n",
              "    }\n",
              "\n",
              "    [theme=dark] .colab-df-convert:hover {\n",
              "      background-color: #434B5C;\n",
              "      box-shadow: 0px 1px 3px 1px rgba(0, 0, 0, 0.15);\n",
              "      filter: drop-shadow(0px 1px 2px rgba(0, 0, 0, 0.3));\n",
              "      fill: #FFFFFF;\n",
              "    }\n",
              "  </style>\n",
              "\n",
              "      <script>\n",
              "        const buttonEl =\n",
              "          document.querySelector('#df-d904b43e-97ab-448d-abe4-9ef834c02d85 button.colab-df-convert');\n",
              "        buttonEl.style.display =\n",
              "          google.colab.kernel.accessAllowed ? 'block' : 'none';\n",
              "\n",
              "        async function convertToInteractive(key) {\n",
              "          const element = document.querySelector('#df-d904b43e-97ab-448d-abe4-9ef834c02d85');\n",
              "          const dataTable =\n",
              "            await google.colab.kernel.invokeFunction('convertToInteractive',\n",
              "                                                     [key], {});\n",
              "          if (!dataTable) return;\n",
              "\n",
              "          const docLinkHtml = 'Like what you see? Visit the ' +\n",
              "            '<a target=\"_blank\" href=https://colab.research.google.com/notebooks/data_table.ipynb>data table notebook</a>'\n",
              "            + ' to learn more about interactive tables.';\n",
              "          element.innerHTML = '';\n",
              "          dataTable['output_type'] = 'display_data';\n",
              "          await google.colab.output.renderOutput(dataTable, element);\n",
              "          const docLink = document.createElement('div');\n",
              "          docLink.innerHTML = docLinkHtml;\n",
              "          element.appendChild(docLink);\n",
              "        }\n",
              "      </script>\n",
              "    </div>\n",
              "  </div>\n",
              "  "
            ],
            "text/plain": [
              "                   id       tdate            tname  ... tfol  tfrien  listcount\n",
              "0  408906762813579264  1386325944  dugarchikbellko  ...  111      94          2\n",
              "1  408906818262687744  1386325957     nugemycejela  ...   42      39          0\n",
              "2  408906858515398656  1386325966          4post21  ...   49     249          0\n",
              "3  408906914437685248  1386325980         Poliwake  ...  207     200          0\n",
              "4  408906914723295232  1386325980       capyvixowe  ...   17      34          0\n",
              "\n",
              "[5 rows x 12 columns]"
            ]
          },
          "execution_count": 4,
          "metadata": {},
          "output_type": "execute_result"
        }
      ],
      "source": [
        "import pandas as pd\n",
        "\n",
        "negative = pd.read_csv('/content/drive/MyDrive/Распознавание эмоций/negative.csv', sep=';',\n",
        "                       names=['id', 'tdate', 'tname', 'ttext', 'ttype', 'trep', 'trtv', 'tfav', 'tstcount', 'tfol', 'tfrien', 'listcount'])\n",
        "negative.head()"
      ]
    },
    {
      "cell_type": "code",
      "execution_count": null,
      "metadata": {
        "colab": {
          "base_uri": "https://localhost:8080/",
          "height": 206
        },
        "id": "VzSaFbKnzB-S",
        "outputId": "cf12acb5-5b44-4ce3-86ca-da6e77aa610e"
      },
      "outputs": [
        {
          "data": {
            "text/html": [
              "\n",
              "  <div id=\"df-3f7131f2-ffb3-4bc6-a34e-0389e86be76f\">\n",
              "    <div class=\"colab-df-container\">\n",
              "      <div>\n",
              "<style scoped>\n",
              "    .dataframe tbody tr th:only-of-type {\n",
              "        vertical-align: middle;\n",
              "    }\n",
              "\n",
              "    .dataframe tbody tr th {\n",
              "        vertical-align: top;\n",
              "    }\n",
              "\n",
              "    .dataframe thead th {\n",
              "        text-align: right;\n",
              "    }\n",
              "</style>\n",
              "<table border=\"1\" class=\"dataframe\">\n",
              "  <thead>\n",
              "    <tr style=\"text-align: right;\">\n",
              "      <th></th>\n",
              "      <th>id</th>\n",
              "      <th>tdate</th>\n",
              "      <th>tname</th>\n",
              "      <th>ttext</th>\n",
              "      <th>ttype</th>\n",
              "      <th>trep</th>\n",
              "      <th>trtv</th>\n",
              "      <th>tfav</th>\n",
              "      <th>tstcount</th>\n",
              "      <th>tfol</th>\n",
              "      <th>tfrien</th>\n",
              "      <th>listcount</th>\n",
              "    </tr>\n",
              "  </thead>\n",
              "  <tbody>\n",
              "    <tr>\n",
              "      <th>0</th>\n",
              "      <td>408906692374446080</td>\n",
              "      <td>1386325927</td>\n",
              "      <td>pleease_shut_up</td>\n",
              "      <td>@first_timee хоть я и школота, но поверь, у на...</td>\n",
              "      <td>1</td>\n",
              "      <td>0</td>\n",
              "      <td>0</td>\n",
              "      <td>0</td>\n",
              "      <td>7569</td>\n",
              "      <td>62</td>\n",
              "      <td>61</td>\n",
              "      <td>0</td>\n",
              "    </tr>\n",
              "    <tr>\n",
              "      <th>1</th>\n",
              "      <td>408906692693221377</td>\n",
              "      <td>1386325927</td>\n",
              "      <td>alinakirpicheva</td>\n",
              "      <td>Да, все-таки он немного похож на него. Но мой ...</td>\n",
              "      <td>1</td>\n",
              "      <td>0</td>\n",
              "      <td>0</td>\n",
              "      <td>0</td>\n",
              "      <td>11825</td>\n",
              "      <td>59</td>\n",
              "      <td>31</td>\n",
              "      <td>2</td>\n",
              "    </tr>\n",
              "    <tr>\n",
              "      <th>2</th>\n",
              "      <td>408906695083954177</td>\n",
              "      <td>1386325927</td>\n",
              "      <td>EvgeshaRe</td>\n",
              "      <td>RT @KatiaCheh: Ну ты идиотка) я испугалась за ...</td>\n",
              "      <td>1</td>\n",
              "      <td>0</td>\n",
              "      <td>1</td>\n",
              "      <td>0</td>\n",
              "      <td>1273</td>\n",
              "      <td>26</td>\n",
              "      <td>27</td>\n",
              "      <td>0</td>\n",
              "    </tr>\n",
              "    <tr>\n",
              "      <th>3</th>\n",
              "      <td>408906695356973056</td>\n",
              "      <td>1386325927</td>\n",
              "      <td>ikonnikova_21</td>\n",
              "      <td>RT @digger2912: \"Кто то в углу сидит и погибае...</td>\n",
              "      <td>1</td>\n",
              "      <td>0</td>\n",
              "      <td>1</td>\n",
              "      <td>0</td>\n",
              "      <td>1549</td>\n",
              "      <td>19</td>\n",
              "      <td>17</td>\n",
              "      <td>0</td>\n",
              "    </tr>\n",
              "    <tr>\n",
              "      <th>4</th>\n",
              "      <td>408906761416867842</td>\n",
              "      <td>1386325943</td>\n",
              "      <td>JumpyAlex</td>\n",
              "      <td>@irina_dyshkant Вот что значит страшилка :D\\nН...</td>\n",
              "      <td>1</td>\n",
              "      <td>0</td>\n",
              "      <td>0</td>\n",
              "      <td>0</td>\n",
              "      <td>597</td>\n",
              "      <td>16</td>\n",
              "      <td>23</td>\n",
              "      <td>1</td>\n",
              "    </tr>\n",
              "  </tbody>\n",
              "</table>\n",
              "</div>\n",
              "      <button class=\"colab-df-convert\" onclick=\"convertToInteractive('df-3f7131f2-ffb3-4bc6-a34e-0389e86be76f')\"\n",
              "              title=\"Convert this dataframe to an interactive table.\"\n",
              "              style=\"display:none;\">\n",
              "        \n",
              "  <svg xmlns=\"http://www.w3.org/2000/svg\" height=\"24px\"viewBox=\"0 0 24 24\"\n",
              "       width=\"24px\">\n",
              "    <path d=\"M0 0h24v24H0V0z\" fill=\"none\"/>\n",
              "    <path d=\"M18.56 5.44l.94 2.06.94-2.06 2.06-.94-2.06-.94-.94-2.06-.94 2.06-2.06.94zm-11 1L8.5 8.5l.94-2.06 2.06-.94-2.06-.94L8.5 2.5l-.94 2.06-2.06.94zm10 10l.94 2.06.94-2.06 2.06-.94-2.06-.94-.94-2.06-.94 2.06-2.06.94z\"/><path d=\"M17.41 7.96l-1.37-1.37c-.4-.4-.92-.59-1.43-.59-.52 0-1.04.2-1.43.59L10.3 9.45l-7.72 7.72c-.78.78-.78 2.05 0 2.83L4 21.41c.39.39.9.59 1.41.59.51 0 1.02-.2 1.41-.59l7.78-7.78 2.81-2.81c.8-.78.8-2.07 0-2.86zM5.41 20L4 18.59l7.72-7.72 1.47 1.35L5.41 20z\"/>\n",
              "  </svg>\n",
              "      </button>\n",
              "      \n",
              "  <style>\n",
              "    .colab-df-container {\n",
              "      display:flex;\n",
              "      flex-wrap:wrap;\n",
              "      gap: 12px;\n",
              "    }\n",
              "\n",
              "    .colab-df-convert {\n",
              "      background-color: #E8F0FE;\n",
              "      border: none;\n",
              "      border-radius: 50%;\n",
              "      cursor: pointer;\n",
              "      display: none;\n",
              "      fill: #1967D2;\n",
              "      height: 32px;\n",
              "      padding: 0 0 0 0;\n",
              "      width: 32px;\n",
              "    }\n",
              "\n",
              "    .colab-df-convert:hover {\n",
              "      background-color: #E2EBFA;\n",
              "      box-shadow: 0px 1px 2px rgba(60, 64, 67, 0.3), 0px 1px 3px 1px rgba(60, 64, 67, 0.15);\n",
              "      fill: #174EA6;\n",
              "    }\n",
              "\n",
              "    [theme=dark] .colab-df-convert {\n",
              "      background-color: #3B4455;\n",
              "      fill: #D2E3FC;\n",
              "    }\n",
              "\n",
              "    [theme=dark] .colab-df-convert:hover {\n",
              "      background-color: #434B5C;\n",
              "      box-shadow: 0px 1px 3px 1px rgba(0, 0, 0, 0.15);\n",
              "      filter: drop-shadow(0px 1px 2px rgba(0, 0, 0, 0.3));\n",
              "      fill: #FFFFFF;\n",
              "    }\n",
              "  </style>\n",
              "\n",
              "      <script>\n",
              "        const buttonEl =\n",
              "          document.querySelector('#df-3f7131f2-ffb3-4bc6-a34e-0389e86be76f button.colab-df-convert');\n",
              "        buttonEl.style.display =\n",
              "          google.colab.kernel.accessAllowed ? 'block' : 'none';\n",
              "\n",
              "        async function convertToInteractive(key) {\n",
              "          const element = document.querySelector('#df-3f7131f2-ffb3-4bc6-a34e-0389e86be76f');\n",
              "          const dataTable =\n",
              "            await google.colab.kernel.invokeFunction('convertToInteractive',\n",
              "                                                     [key], {});\n",
              "          if (!dataTable) return;\n",
              "\n",
              "          const docLinkHtml = 'Like what you see? Visit the ' +\n",
              "            '<a target=\"_blank\" href=https://colab.research.google.com/notebooks/data_table.ipynb>data table notebook</a>'\n",
              "            + ' to learn more about interactive tables.';\n",
              "          element.innerHTML = '';\n",
              "          dataTable['output_type'] = 'display_data';\n",
              "          await google.colab.output.renderOutput(dataTable, element);\n",
              "          const docLink = document.createElement('div');\n",
              "          docLink.innerHTML = docLinkHtml;\n",
              "          element.appendChild(docLink);\n",
              "        }\n",
              "      </script>\n",
              "    </div>\n",
              "  </div>\n",
              "  "
            ],
            "text/plain": [
              "                   id       tdate            tname  ... tfol  tfrien  listcount\n",
              "0  408906692374446080  1386325927  pleease_shut_up  ...   62      61          0\n",
              "1  408906692693221377  1386325927  alinakirpicheva  ...   59      31          2\n",
              "2  408906695083954177  1386325927        EvgeshaRe  ...   26      27          0\n",
              "3  408906695356973056  1386325927    ikonnikova_21  ...   19      17          0\n",
              "4  408906761416867842  1386325943        JumpyAlex  ...   16      23          1\n",
              "\n",
              "[5 rows x 12 columns]"
            ]
          },
          "execution_count": 5,
          "metadata": {},
          "output_type": "execute_result"
        }
      ],
      "source": [
        "positive = pd.read_csv('/content/drive/MyDrive/Распознавание эмоций/positive.csv', sep=';',\n",
        "                       names=['id', 'tdate', 'tname', 'ttext', 'ttype', 'trep', 'trtv', 'tfav', 'tstcount', 'tfol', 'tfrien', 'listcount'])\n",
        "positive.head()"
      ]
    },
    {
      "cell_type": "markdown",
      "metadata": {
        "id": "KCKfb5cE3i_w"
      },
      "source": [
        "# 2 Описательная статистика"
      ]
    },
    {
      "cell_type": "markdown",
      "metadata": {
        "id": "GKnQgVSzKthp"
      },
      "source": [
        "## Среднее количество ретвитов"
      ]
    },
    {
      "cell_type": "code",
      "execution_count": null,
      "metadata": {
        "colab": {
          "base_uri": "https://localhost:8080/"
        },
        "id": "kz0D8rFyzRg2",
        "outputId": "8d5ef542-1ae6-458b-967e-559c2e9d5e18"
      },
      "outputs": [
        {
          "data": {
            "text/plain": [
              "2.0420199601511753"
            ]
          },
          "execution_count": 6,
          "metadata": {},
          "output_type": "execute_result"
        }
      ],
      "source": [
        "negative['trtv'].mean()"
      ]
    },
    {
      "cell_type": "code",
      "execution_count": null,
      "metadata": {
        "colab": {
          "base_uri": "https://localhost:8080/"
        },
        "id": "kEX5v-kPzGyH",
        "outputId": "ca78698e-850e-440e-835e-3aa989940e0d"
      },
      "outputs": [
        {
          "data": {
            "text/plain": [
              "4.166494069323216"
            ]
          },
          "execution_count": 7,
          "metadata": {},
          "output_type": "execute_result"
        }
      ],
      "source": [
        "positive['trtv'].mean()"
      ]
    },
    {
      "cell_type": "markdown",
      "metadata": {
        "id": "pfWkaFsgLApb"
      },
      "source": [
        "## По одному пользователю"
      ]
    },
    {
      "cell_type": "code",
      "execution_count": null,
      "metadata": {
        "colab": {
          "base_uri": "https://localhost:8080/"
        },
        "id": "a6Yrf0fVK4YE",
        "outputId": "4a143d93-4713-4d99-8cdd-733dee2e0dd5"
      },
      "outputs": [
        {
          "name": "stdout",
          "output_type": "stream",
          "text": [
            "По положительному корпусу: \n",
            "Среднее количество сообщений:  id    1.475071\n",
            "dtype: float64\n",
            "Минимальное количество сообщений:  id    1\n",
            "dtype: int64\n",
            "Максимальное количество сообщений:  id    50\n",
            "dtype: int64\n",
            "Медианное количество сообщений:  id    1.0\n",
            "dtype: float64\n"
          ]
        }
      ],
      "source": [
        "print('По положительному корпусу: ')\n",
        "print('Среднее количество сообщений: ', positive.groupby('tname').agg({'id': 'count'}).mean())\n",
        "print('Минимальное количество сообщений: ', positive.groupby('tname').agg({'id': 'count'}).min())\n",
        "print('Максимальное количество сообщений: ', positive.groupby('tname').agg({'id': 'count'}).max())\n",
        "print('Медианное количество сообщений: ', positive.groupby('tname').agg({'id': 'count'}).median())"
      ]
    },
    {
      "cell_type": "code",
      "execution_count": null,
      "metadata": {
        "colab": {
          "base_uri": "https://localhost:8080/"
        },
        "id": "zO907g9g9nLP",
        "outputId": "0f850b06-7a4e-44e2-c51a-95db63d7d2b9"
      },
      "outputs": [
        {
          "name": "stdout",
          "output_type": "stream",
          "text": [
            "По негативному корпусу: \n",
            "Среднее количество сообщений:  id    1.385906\n",
            "dtype: float64\n",
            "Минимальное количество сообщений:  id    1\n",
            "dtype: int64\n",
            "Максимальное количество сообщений:  id    52\n",
            "dtype: int64\n",
            "Медианное количество сообщений:  id    1.0\n",
            "dtype: float64\n"
          ]
        }
      ],
      "source": [
        "print('По негативному корпусу: ')\n",
        "print('Среднее количество сообщений: ', negative.groupby('tname').agg({'id': 'count'}).mean())\n",
        "print('Минимальное количество сообщений: ', negative.groupby('tname').agg({'id': 'count'}).min())\n",
        "print('Максимальное количество сообщений: ', negative.groupby('tname').agg({'id': 'count'}).max())\n",
        "print('Медианное количество сообщений: ', negative.groupby('tname').agg({'id': 'count'}).median())"
      ]
    },
    {
      "cell_type": "markdown",
      "metadata": {
        "id": "cRSGnnWt421q"
      },
      "source": [
        "# 3 Регулярные выражения"
      ]
    },
    {
      "cell_type": "markdown",
      "metadata": {
        "id": "xoWZTbRRMKdm"
      },
      "source": [
        "Выделение слов и предложений в каждом корпусе"
      ]
    },
    {
      "cell_type": "code",
      "execution_count": null,
      "metadata": {
        "id": "owN6Z7SC2htL"
      },
      "outputs": [],
      "source": [
        "import re\n",
        "\n",
        "word = r'\\w+' // для слов\n",
        "sentence = r' *[\\.\\?!] *' // для предложений\n",
        "\n",
        "// подсчет количества слов и предложений в каждом корпусе\n",
        "\n",
        "positive_sentence = [re.split(sentence, text) for text in positive['ttext'] if re.split(sentence, text) != '']\n",
        "positive_count_sentence = [len(text) for text in positive_sentence]\n",
        "positive_word = [re.findall(word, text) for text in positive['ttext']]\n",
        "positive_count_word = [len(text) for text in positive_word]\n",
        "\n",
        "negative_sentence = [re.split(sentence, text) for text in positive['ttext'] if re.split(sentence, text) != '']\n",
        "negative_count_sentence = [len(text) for text in positive_sentence]\n",
        "negative_word = [re.findall(word, text) for text in positive['ttext']]\n",
        "negative_count_word = [len(text) for text in positive_word]"
      ]
    },
    {
      "cell_type": "markdown",
      "metadata": {
        "id": "Wb2I8AWz6aJf"
      },
      "source": [
        "# 4 Токенизация"
      ]
    },
    {
      "cell_type": "code",
      "execution_count": null,
      "metadata": {
        "colab": {
          "base_uri": "https://localhost:8080/"
        },
        "id": "TBKTwl3s6Y-2",
        "outputId": "3789f6b8-0130-460b-b425-69a684d9f4e7"
      },
      "outputs": [
        {
          "name": "stdout",
          "output_type": "stream",
          "text": [
            "[nltk_data] Downloading package punkt to /root/nltk_data...\n",
            "[nltk_data]   Unzipping tokenizers/punkt.zip.\n"
          ]
        },
        {
          "data": {
            "text/plain": [
              "True"
            ]
          },
          "execution_count": 11,
          "metadata": {},
          "output_type": "execute_result"
        }
      ],
      "source": [
        "import nltk\n",
        "from nltk.tokenize import wordpunct_tokenize\n",
        "from nltk.tokenize import sent_tokenize, word_tokenize\n",
        "\n",
        "nltk.download('punkt')"
      ]
    },
    {
      "cell_type": "markdown",
      "metadata": {
        "id": "GcBLhjllMwJb"
      },
      "source": [
        "Задание токенизатора для выделения слов (чтобы сразу удалить пунктуацию)"
      ]
    },
    {
      "cell_type": "code",
      "execution_count": null,
      "metadata": {
        "id": "-zJY6JSBMuyb"
      },
      "outputs": [],
      "source": [
        "from nltk.tokenize import RegexpTokenizer\n",
        "tokenizer = RegexpTokenizer(r'\\w+')"
      ]
    },
    {
      "cell_type": "markdown",
      "metadata": {
        "id": "5-2Sjqn1MQrP"
      },
      "source": [
        "## Для позитивного корпуса"
      ]
    },
    {
      "cell_type": "markdown",
      "metadata": {
        "id": "Xo3lfvjNuS5I"
      },
      "source": [
        "Выделений предложений"
      ]
    },
    {
      "cell_type": "code",
      "execution_count": null,
      "metadata": {
        "colab": {
          "base_uri": "https://localhost:8080/"
        },
        "id": "SbewWHqhAENt",
        "outputId": "ee479f5c-aded-4481-8173-30d7f8149bf6"
      },
      "outputs": [
        {
          "data": {
            "text/plain": [
              "[['@first_timee хоть я и школота, но поверь, у нас то же самое :D общество профилирующий предмет типа)'],\n",
              " ['Да, все-таки он немного похож на него.',\n",
              "  'Но мой мальчик все равно лучше:D'],\n",
              " ['RT @KatiaCheh: Ну ты идиотка) я испугалась за тебя!!', '!'],\n",
              " ['RT @digger2912: \"Кто то в углу сидит и погибает от голода, а мы ещё 2 порции взяли, хотя уже и так жрать не хотим\" :DD http://t.co/GqG6iuE2…'],\n",
              " ['@irina_dyshkant Вот что значит страшилка :D\\nНо блин,посмотрев все части,у тебя создастся ощущение,что авторы курили что-то :D']]"
            ]
          },
          "execution_count": 13,
          "metadata": {},
          "output_type": "execute_result"
        }
      ],
      "source": [
        "positive_sentences = [sent_tokenize(text) for text in positive['ttext']]\n",
        "positive_count_sentences = [len(text) for text in positive_sentences]\n",
        "positive_sentences[:5]"
      ]
    },
    {
      "cell_type": "code",
      "execution_count": null,
      "metadata": {
        "colab": {
          "base_uri": "https://localhost:8080/"
        },
        "id": "wgLt-uGAXqRH",
        "outputId": "20f6caca-487e-4945-d8a2-7f32b6fccc5c"
      },
      "outputs": [
        {
          "data": {
            "text/plain": [
              "114911"
            ]
          },
          "execution_count": 14,
          "metadata": {},
          "output_type": "execute_result"
        }
      ],
      "source": [
        "len(positive_sentences)"
      ]
    },
    {
      "cell_type": "markdown",
      "metadata": {
        "id": "bZGGzrDQuS5J"
      },
      "source": [
        "Выделение слов без пунктуации"
      ]
    },
    {
      "cell_type": "code",
      "execution_count": null,
      "metadata": {
        "colab": {
          "base_uri": "https://localhost:8080/"
        },
        "id": "_Ezt2MLrA1WX",
        "outputId": "0ae77a5d-dd0d-4246-9706-54b9176a2ce3"
      },
      "outputs": [
        {
          "data": {
            "text/plain": [
              "[['first_timee',\n",
              "  'хоть',\n",
              "  'я',\n",
              "  'и',\n",
              "  'школота',\n",
              "  'но',\n",
              "  'поверь',\n",
              "  'у',\n",
              "  'нас',\n",
              "  'то',\n",
              "  'же',\n",
              "  'самое',\n",
              "  'd',\n",
              "  'общество',\n",
              "  'профилирующий',\n",
              "  'предмет',\n",
              "  'типа'],\n",
              " ['да', 'все', 'таки', 'он', 'немного', 'похож', 'на', 'него'],\n",
              " ['но', 'мой', 'мальчик', 'все', 'равно', 'лучше', 'd'],\n",
              " ['rt', 'katiacheh', 'ну', 'ты', 'идиотка', 'я', 'испугалась', 'за', 'тебя'],\n",
              " []]"
            ]
          },
          "execution_count": 15,
          "metadata": {},
          "output_type": "execute_result"
        }
      ],
      "source": [
        "positive_removed_punc_words = [tokenizer.tokenize(s.lower()) for ss in positive_sentences for s in ss]\n",
        "positive_removed_punc_words[:5]"
      ]
    },
    {
      "cell_type": "code",
      "execution_count": null,
      "metadata": {
        "colab": {
          "base_uri": "https://localhost:8080/"
        },
        "id": "CT2EVZ1MXt8N",
        "outputId": "38093689-8652-4e0f-97d5-33421e274ec1"
      },
      "outputs": [
        {
          "data": {
            "text/plain": [
              "171405"
            ]
          },
          "execution_count": 16,
          "metadata": {},
          "output_type": "execute_result"
        }
      ],
      "source": [
        "len(positive_removed_punc_words)"
      ]
    },
    {
      "cell_type": "markdown",
      "metadata": {
        "id": "inEWWUwbMU6q"
      },
      "source": [
        "## Для негативного корпуса"
      ]
    },
    {
      "cell_type": "markdown",
      "metadata": {
        "id": "_b-ptrY0uS5K"
      },
      "source": [
        "Выделений предложений"
      ]
    },
    {
      "cell_type": "code",
      "execution_count": null,
      "metadata": {
        "colab": {
          "base_uri": "https://localhost:8080/"
        },
        "id": "tWmWYzcCMXg1",
        "outputId": "0a1fa7cd-97ba-4495-cc87-c6ad3707aecf"
      },
      "outputs": [
        {
          "data": {
            "text/plain": [
              "[['на работе был полный пиддес :| и так каждое закрытие месяца, я же свихнусь так D:'],\n",
              " ['Коллеги сидят рубятся в Urban terror, а я из-за долбанной винды не могу :('],\n",
              " ['@elina_4post как говорят обещаного три года ждут...(('],\n",
              " ['Желаю хорошего полёта и удачной посадки,я буду очень сильно скучать( http://t.co/jCLNzVNv3S'],\n",
              " ['Обновил за каким-то лешим surf, теперь не работает простоплеер :(']]"
            ]
          },
          "execution_count": 17,
          "metadata": {},
          "output_type": "execute_result"
        }
      ],
      "source": [
        "negative_sentences = [sent_tokenize(text) for text in negative['ttext']]\n",
        "negative_count_sentences = [len(text) for text in negative_sentences]\n",
        "negative_sentences[:5]"
      ]
    },
    {
      "cell_type": "code",
      "execution_count": null,
      "metadata": {
        "colab": {
          "base_uri": "https://localhost:8080/"
        },
        "id": "xtXga9m1XyOt",
        "outputId": "fde6e88c-4e6f-465f-a263-0394414d087e"
      },
      "outputs": [
        {
          "data": {
            "text/plain": [
              "111923"
            ]
          },
          "execution_count": 18,
          "metadata": {},
          "output_type": "execute_result"
        }
      ],
      "source": [
        "len(negative_sentences)"
      ]
    },
    {
      "cell_type": "markdown",
      "metadata": {
        "id": "18Q8OkpkuS5K"
      },
      "source": [
        "Выделение слов без пунктуации"
      ]
    },
    {
      "cell_type": "code",
      "execution_count": null,
      "metadata": {
        "colab": {
          "base_uri": "https://localhost:8080/"
        },
        "id": "bg0be1NHMX_y",
        "outputId": "e96fa8a5-a67b-49e5-b08d-9100e6801648"
      },
      "outputs": [
        {
          "data": {
            "text/plain": [
              "[['на',\n",
              "  'работе',\n",
              "  'был',\n",
              "  'полный',\n",
              "  'пиддес',\n",
              "  'и',\n",
              "  'так',\n",
              "  'каждое',\n",
              "  'закрытие',\n",
              "  'месяца',\n",
              "  'я',\n",
              "  'же',\n",
              "  'свихнусь',\n",
              "  'так',\n",
              "  'd'],\n",
              " ['коллеги',\n",
              "  'сидят',\n",
              "  'рубятся',\n",
              "  'в',\n",
              "  'urban',\n",
              "  'terror',\n",
              "  'а',\n",
              "  'я',\n",
              "  'из',\n",
              "  'за',\n",
              "  'долбанной',\n",
              "  'винды',\n",
              "  'не',\n",
              "  'могу'],\n",
              " ['elina_4post', 'как', 'говорят', 'обещаного', 'три', 'года', 'ждут'],\n",
              " ['желаю',\n",
              "  'хорошего',\n",
              "  'полёта',\n",
              "  'и',\n",
              "  'удачной',\n",
              "  'посадки',\n",
              "  'я',\n",
              "  'буду',\n",
              "  'очень',\n",
              "  'сильно',\n",
              "  'скучать',\n",
              "  'http',\n",
              "  't',\n",
              "  'co',\n",
              "  'jclnzvnv3s'],\n",
              " ['обновил',\n",
              "  'за',\n",
              "  'каким',\n",
              "  'то',\n",
              "  'лешим',\n",
              "  'surf',\n",
              "  'теперь',\n",
              "  'не',\n",
              "  'работает',\n",
              "  'простоплеер']]"
            ]
          },
          "execution_count": 19,
          "metadata": {},
          "output_type": "execute_result"
        }
      ],
      "source": [
        "negative_removed_punc_words = [tokenizer.tokenize(s.lower()) for ss in negative_sentences for s in ss]\n",
        "negative_removed_punc_words[:5]"
      ]
    },
    {
      "cell_type": "code",
      "execution_count": null,
      "metadata": {
        "colab": {
          "base_uri": "https://localhost:8080/"
        },
        "id": "Kl4QwBmTX01d",
        "outputId": "06b031aa-db3e-4acb-c82f-8a79228239d0"
      },
      "outputs": [
        {
          "data": {
            "text/plain": [
              "164282"
            ]
          },
          "execution_count": 20,
          "metadata": {},
          "output_type": "execute_result"
        }
      ],
      "source": [
        "len(negative_removed_punc_words)"
      ]
    },
    {
      "cell_type": "markdown",
      "metadata": {
        "id": "yeT2i7dCDIcs"
      },
      "source": [
        "# 5 Нормальная форма"
      ]
    },
    {
      "cell_type": "code",
      "execution_count": null,
      "metadata": {
        "colab": {
          "base_uri": "https://localhost:8080/"
        },
        "id": "x5nofyRlEKwM",
        "outputId": "72fe9e0b-ebd0-4e45-b5d6-88549f42f50c"
      },
      "outputs": [
        {
          "name": "stdout",
          "output_type": "stream",
          "text": [
            "Collecting pymorphy2\n",
            "  Downloading pymorphy2-0.9.1-py3-none-any.whl (55 kB)\n",
            "\u001b[?25l\r",
            "\u001b[K     |██████                          | 10 kB 20.9 MB/s eta 0:00:01\r",
            "\u001b[K     |███████████▉                    | 20 kB 13.6 MB/s eta 0:00:01\r",
            "\u001b[K     |█████████████████▊              | 30 kB 10.1 MB/s eta 0:00:01\r",
            "\u001b[K     |███████████████████████▋        | 40 kB 9.1 MB/s eta 0:00:01\r",
            "\u001b[K     |█████████████████████████████▌  | 51 kB 5.7 MB/s eta 0:00:01\r",
            "\u001b[K     |████████████████████████████████| 55 kB 2.1 MB/s \n",
            "\u001b[?25hCollecting dawg-python>=0.7.1\n",
            "  Downloading DAWG_Python-0.7.2-py2.py3-none-any.whl (11 kB)\n",
            "Requirement already satisfied: docopt>=0.6 in /usr/local/lib/python3.7/dist-packages (from pymorphy2) (0.6.2)\n",
            "Collecting pymorphy2-dicts-ru<3.0,>=2.4\n",
            "  Downloading pymorphy2_dicts_ru-2.4.417127.4579844-py2.py3-none-any.whl (8.2 MB)\n",
            "\u001b[K     |████████████████████████████████| 8.2 MB 10.8 MB/s \n",
            "\u001b[?25hInstalling collected packages: pymorphy2-dicts-ru, dawg-python, pymorphy2\n",
            "Successfully installed dawg-python-0.7.2 pymorphy2-0.9.1 pymorphy2-dicts-ru-2.4.417127.4579844\n"
          ]
        }
      ],
      "source": [
        "!pip install pymorphy2"
      ]
    },
    {
      "cell_type": "code",
      "execution_count": null,
      "metadata": {
        "id": "5MHTODhEOWX9"
      },
      "outputs": [],
      "source": [
        "import pymorphy2\n",
        "morph = pymorphy2.MorphAnalyzer()"
      ]
    },
    {
      "cell_type": "code",
      "execution_count": null,
      "metadata": {
        "colab": {
          "base_uri": "https://localhost:8080/"
        },
        "id": "AAZEA_X9Ae6P",
        "outputId": "576149d5-f359-4d13-ea3a-28bbdd97c702"
      },
      "outputs": [
        {
          "data": {
            "text/plain": [
              "['first_timee', 'хоть', 'я', 'и', 'школотый']"
            ]
          },
          "execution_count": 23,
          "metadata": {},
          "output_type": "execute_result"
        }
      ],
      "source": [
        "positive_norm = [morph.parse(word)[0].normal_form for sentence in positive_removed_punc_words for word in sentence]\n",
        "positive_norm[:5]"
      ]
    },
    {
      "cell_type": "code",
      "execution_count": null,
      "metadata": {
        "colab": {
          "base_uri": "https://localhost:8080/"
        },
        "id": "GixXaDkkOK1U",
        "outputId": "eb3d29c3-d37c-4e45-feb1-803f78d608b7"
      },
      "outputs": [
        {
          "data": {
            "text/plain": [
              "['на', 'работа', 'быть', 'полный', 'пиддес']"
            ]
          },
          "execution_count": 24,
          "metadata": {},
          "output_type": "execute_result"
        }
      ],
      "source": [
        "negative_norm = [morph.parse(word)[0].normal_form for sentence in negative_removed_punc_words for word in sentence]\n",
        "negative_norm[:5]"
      ]
    },
    {
      "cell_type": "markdown",
      "metadata": {
        "id": "LJWEIYN2Oce7"
      },
      "source": [
        "pymystem3 не выполняется :("
      ]
    },
    {
      "cell_type": "code",
      "execution_count": null,
      "metadata": {
        "colab": {
          "base_uri": "https://localhost:8080/"
        },
        "id": "roCLinetE0Eh",
        "outputId": "2fc2672d-47de-4a41-abc3-92eaf6582cd9"
      },
      "outputs": [
        {
          "name": "stdout",
          "output_type": "stream",
          "text": [
            "Requirement already satisfied: pymystem3 in /usr/local/lib/python3.7/dist-packages (0.2.0)\n",
            "Requirement already satisfied: requests in /usr/local/lib/python3.7/dist-packages (from pymystem3) (2.23.0)\n",
            "Requirement already satisfied: chardet<4,>=3.0.2 in /usr/local/lib/python3.7/dist-packages (from requests->pymystem3) (3.0.4)\n",
            "Requirement already satisfied: certifi>=2017.4.17 in /usr/local/lib/python3.7/dist-packages (from requests->pymystem3) (2021.10.8)\n",
            "Requirement already satisfied: urllib3!=1.25.0,!=1.25.1,<1.26,>=1.21.1 in /usr/local/lib/python3.7/dist-packages (from requests->pymystem3) (1.24.3)\n",
            "Requirement already satisfied: idna<3,>=2.5 in /usr/local/lib/python3.7/dist-packages (from requests->pymystem3) (2.10)\n"
          ]
        }
      ],
      "source": [
        "!pip install pymystem3"
      ]
    },
    {
      "cell_type": "code",
      "execution_count": null,
      "metadata": {
        "id": "JzPtVwUNE8Gk"
      },
      "outputs": [],
      "source": [
        "from pymystem3 import Mystem\n",
        "m = Mystem()\n",
        "positive_lemmas_for_words = [m.lemmatize(word) for sentence in positive_removed_punc_words for word in sentence]\n",
        "positive_lemmas_for_words[:5]"
      ]
    },
    {
      "cell_type": "markdown",
      "metadata": {
        "id": "k1cxH76hF1HV"
      },
      "source": [
        "# 6 Частота слов"
      ]
    },
    {
      "cell_type": "markdown",
      "metadata": {
        "id": "IGhcL3-qNyw_"
      },
      "source": [
        "Складываем все слова из предложений в единый список по каждому корпусу"
      ]
    },
    {
      "cell_type": "code",
      "execution_count": null,
      "metadata": {
        "colab": {
          "base_uri": "https://localhost:8080/"
        },
        "id": "CJwDrQ98GC1V",
        "outputId": "3b6c2e91-7bcd-40c2-aafe-744f327828ee"
      },
      "outputs": [
        {
          "data": {
            "text/plain": [
              "1525910"
            ]
          },
          "execution_count": 26,
          "metadata": {},
          "output_type": "execute_result"
        }
      ],
      "source": [
        "positive_words_list = []\n",
        "for s in positive_norm:\n",
        "    positive_words_list.append(s)\n",
        "\n",
        "len(positive_words_list)"
      ]
    },
    {
      "cell_type": "code",
      "execution_count": null,
      "metadata": {
        "colab": {
          "base_uri": "https://localhost:8080/"
        },
        "id": "IXPpvz5pODok",
        "outputId": "6baf87ae-05bd-4cf2-aa97-370e25ee7760"
      },
      "outputs": [
        {
          "data": {
            "text/plain": [
              "1376849"
            ]
          },
          "execution_count": 27,
          "metadata": {},
          "output_type": "execute_result"
        }
      ],
      "source": [
        "negative_words_list = []\n",
        "for s in negative_norm:\n",
        "    negative_words_list.append(s)\n",
        "\n",
        "len(negative_words_list)"
      ]
    },
    {
      "cell_type": "markdown",
      "metadata": {
        "id": "fayEcXNYN44A"
      },
      "source": [
        "Вывод 10 наиболее частотных слов в позитивном корпусе"
      ]
    },
    {
      "cell_type": "code",
      "execution_count": null,
      "metadata": {
        "colab": {
          "base_uri": "https://localhost:8080/"
        },
        "id": "6r6EzNnEFa0Y",
        "outputId": "b1ba1412-cd05-43e6-d85c-4d8217916a13"
      },
      "outputs": [
        {
          "data": {
            "text/plain": [
              "[('я', 48829),\n",
              " ('и', 32288),\n",
              " ('в', 30344),\n",
              " ('не', 29689),\n",
              " ('t', 22634),\n",
              " ('http', 22516),\n",
              " ('co', 22485),\n",
              " ('rt', 22077),\n",
              " ('на', 19829),\n",
              " ('что', 18870)]"
            ]
          },
          "execution_count": 28,
          "metadata": {},
          "output_type": "execute_result"
        }
      ],
      "source": [
        "from nltk.probability import FreqDist\n",
        "\n",
        "positive_fdist = FreqDist(positive_words_list)\n",
        "positive_fdist.most_common(10)"
      ]
    },
    {
      "cell_type": "code",
      "execution_count": null,
      "metadata": {
        "colab": {
          "base_uri": "https://localhost:8080/",
          "height": 300
        },
        "id": "jH3biqdWO-0Z",
        "outputId": "1022618a-8976-4891-992a-8760a7061276"
      },
      "outputs": [
        {
          "data": {
            "image/png": "[encoded data removed]",
            "text/plain": [
              "<Figure size 432x288 with 1 Axes>"
            ]
          },
          "metadata": {
            "needs_background": "light"
          },
          "output_type": "display_data"
        }
      ],
      "source": [
        "positive_fdist.plot(30,cumulative=False)"
      ]
    },
    {
      "cell_type": "code",
      "execution_count": null,
      "metadata": {
        "id": "wMqytFTNKILc"
      },
      "outputs": [],
      "source": [
        "import matplotlib"
      ]
    },
    {
      "cell_type": "code",
      "execution_count": null,
      "metadata": {
        "colab": {
          "base_uri": "https://localhost:8080/",
          "height": 351
        },
        "id": "fHP1cykIRIpe",
        "outputId": "a0b1ae50-03a7-473c-d29c-efe95909358a"
      },
      "outputs": [
        {
          "data": {
            "text/plain": [
              "(array([69., 13.,  4.,  5.,  5.,  0.,  3.,  0.,  0.,  1.]),\n",
              " array([1.00000e+00, 4.88380e+03, 9.76660e+03, 1.46494e+04, 1.95322e+04,\n",
              "        2.44150e+04, 2.92978e+04, 3.41806e+04, 3.90634e+04, 4.39462e+04,\n",
              "        4.88290e+04]),\n",
              " <a list of 10 Patch objects>)"
            ]
          },
          "execution_count": 32,
          "metadata": {},
          "output_type": "execute_result"
        },
        {
          "data": {
            "image/png": "[encoded data removed]",
            "text/plain": [
              "<Figure size 432x288 with 1 Axes>"
            ]
          },
          "metadata": {
            "needs_background": "light"
          },
          "output_type": "display_data"
        }
      ],
      "source": [
        "matplotlib.pyplot.hist(x=list(positive_fdist.values())[:100], bins='rice')"
      ]
    },
    {
      "cell_type": "markdown",
      "metadata": {
        "id": "r29tgnXlOv30"
      },
      "source": [
        "Вывод 10 наиболее частотных слов в негативном корпусе"
      ]
    },
    {
      "cell_type": "code",
      "execution_count": null,
      "metadata": {
        "colab": {
          "base_uri": "https://localhost:8080/"
        },
        "id": "8BBYF2_IOyvH",
        "outputId": "7b914dea-5e2e-45d6-c169-001a61ad4ece"
      },
      "outputs": [
        {
          "data": {
            "text/plain": [
              "[('я', 59452),\n",
              " ('не', 45340),\n",
              " ('в', 28815),\n",
              " ('и', 28596),\n",
              " ('что', 20540),\n",
              " ('а', 20099),\n",
              " ('на', 18360),\n",
              " ('rt', 16041),\n",
              " ('с', 14501),\n",
              " ('быть', 13433)]"
            ]
          },
          "execution_count": 33,
          "metadata": {},
          "output_type": "execute_result"
        }
      ],
      "source": [
        "from nltk.probability import FreqDist\n",
        "\n",
        "negative_fdist = FreqDist(negative_words_list)\n",
        "negative_fdist.most_common(10)"
      ]
    },
    {
      "cell_type": "code",
      "execution_count": null,
      "metadata": {
        "colab": {
          "base_uri": "https://localhost:8080/",
          "height": 305
        },
        "id": "eAPoVvBnO_d5",
        "outputId": "12af6e1b-1051-44c7-9664-f1eac3fe6178"
      },
      "outputs": [
        {
          "data": {
            "image/png": "[encoded data removed]",
            "text/plain": [
              "<Figure size 432x288 with 1 Axes>"
            ]
          },
          "metadata": {
            "needs_background": "light"
          },
          "output_type": "display_data"
        }
      ],
      "source": [
        "negative_fdist.plot(30,cumulative=False)"
      ]
    },
    {
      "cell_type": "code",
      "execution_count": null,
      "metadata": {
        "colab": {
          "base_uri": "https://localhost:8080/",
          "height": 421
        },
        "id": "rnliwy8nKP9l",
        "outputId": "f44aafc5-730c-4d9e-e119-03556eb652ba"
      },
      "outputs": [
        {
          "data": {
            "text/plain": [
              "(array([938.,  34.,   7.,   9.,   4.,   1.,   3.,   0.,   0.,   2.,   0.,\n",
              "          0.,   0.,   0.,   0.,   1.,   0.,   0.,   0.,   1.]),\n",
              " array([1.000000e+00, 2.973550e+03, 5.946100e+03, 8.918650e+03,\n",
              "        1.189120e+04, 1.486375e+04, 1.783630e+04, 2.080885e+04,\n",
              "        2.378140e+04, 2.675395e+04, 2.972650e+04, 3.269905e+04,\n",
              "        3.567160e+04, 3.864415e+04, 4.161670e+04, 4.458925e+04,\n",
              "        4.756180e+04, 5.053435e+04, 5.350690e+04, 5.647945e+04,\n",
              "        5.945200e+04]),\n",
              " <a list of 20 Patch objects>)"
            ]
          },
          "execution_count": 35,
          "metadata": {},
          "output_type": "execute_result"
        },
        {
          "data": {
            "image/png": "[encoded data removed]",
            "text/plain": [
              "<Figure size 432x288 with 1 Axes>"
            ]
          },
          "metadata": {
            "needs_background": "light"
          },
          "output_type": "display_data"
        }
      ],
      "source": [
        "matplotlib.pyplot.hist(x=list(negative_fdist.values())[:1000], bins='rice')"
      ]
    },
    {
      "cell_type": "markdown",
      "metadata": {
        "id": "rbLg2JS_JbS4"
      },
      "source": [
        "# 7 Графики распределения количества слов в предложениях"
      ]
    },
    {
      "cell_type": "markdown",
      "source": [
        "В позитивном корпусе"
      ],
      "metadata": {
        "id": "u6N3b7oKuhaz"
      }
    },
    {
      "cell_type": "code",
      "execution_count": null,
      "metadata": {
        "colab": {
          "base_uri": "https://localhost:8080/",
          "height": 1000
        },
        "id": "rRzFzgaAKAJd",
        "outputId": "44ece3b4-c561-483d-f000-246ce7062804",
        "scrolled": true
      },
      "outputs": [
        {
          "data": {
            "text/plain": [
              "(array([6.5740e+03, 0.0000e+00, 7.5670e+03, 0.0000e+00, 0.0000e+00,\n",
              "        8.9110e+03, 0.0000e+00, 0.0000e+00, 1.2475e+04, 0.0000e+00,\n",
              "        1.0643e+04, 0.0000e+00, 0.0000e+00, 1.0498e+04, 0.0000e+00,\n",
              "        0.0000e+00, 1.1849e+04, 0.0000e+00, 1.3247e+04, 0.0000e+00,\n",
              "        0.0000e+00, 1.3563e+04, 0.0000e+00, 0.0000e+00, 1.2489e+04,\n",
              "        0.0000e+00, 0.0000e+00, 1.0676e+04, 0.0000e+00, 9.0610e+03,\n",
              "        0.0000e+00, 0.0000e+00, 7.4630e+03, 0.0000e+00, 0.0000e+00,\n",
              "        5.9750e+03, 0.0000e+00, 4.8650e+03, 0.0000e+00, 0.0000e+00,\n",
              "        4.1430e+03, 0.0000e+00, 0.0000e+00, 3.4720e+03, 0.0000e+00,\n",
              "        0.0000e+00, 2.9280e+03, 0.0000e+00, 2.3520e+03, 0.0000e+00,\n",
              "        0.0000e+00, 2.0210e+03, 0.0000e+00, 0.0000e+00, 1.6630e+03,\n",
              "        0.0000e+00, 1.3590e+03, 0.0000e+00, 0.0000e+00, 9.8400e+02,\n",
              "        0.0000e+00, 0.0000e+00, 7.6500e+02, 0.0000e+00, 4.7700e+02,\n",
              "        0.0000e+00, 0.0000e+00, 2.7900e+02, 0.0000e+00, 0.0000e+00,\n",
              "        1.4800e+02, 0.0000e+00, 0.0000e+00, 6.7000e+01, 0.0000e+00,\n",
              "        3.7000e+01, 0.0000e+00, 0.0000e+00, 1.5000e+01, 0.0000e+00,\n",
              "        0.0000e+00, 3.0000e+00, 0.0000e+00, 1.0000e+00, 0.0000e+00,\n",
              "        0.0000e+00, 0.0000e+00, 0.0000e+00, 0.0000e+00, 0.0000e+00,\n",
              "        0.0000e+00, 0.0000e+00, 0.0000e+00, 0.0000e+00, 0.0000e+00,\n",
              "        0.0000e+00, 0.0000e+00, 0.0000e+00, 0.0000e+00, 0.0000e+00,\n",
              "        0.0000e+00, 0.0000e+00, 0.0000e+00, 0.0000e+00, 0.0000e+00,\n",
              "        0.0000e+00, 0.0000e+00, 0.0000e+00, 0.0000e+00, 0.0000e+00,\n",
              "        1.0000e+00]),\n",
              " array([ 1.        ,  1.36936937,  1.73873874,  2.10810811,  2.47747748,\n",
              "         2.84684685,  3.21621622,  3.58558559,  3.95495495,  4.32432432,\n",
              "         4.69369369,  5.06306306,  5.43243243,  5.8018018 ,  6.17117117,\n",
              "         6.54054054,  6.90990991,  7.27927928,  7.64864865,  8.01801802,\n",
              "         8.38738739,  8.75675676,  9.12612613,  9.4954955 ,  9.86486486,\n",
              "        10.23423423, 10.6036036 , 10.97297297, 11.34234234, 11.71171171,\n",
              "        12.08108108, 12.45045045, 12.81981982, 13.18918919, 13.55855856,\n",
              "        13.92792793, 14.2972973 , 14.66666667, 15.03603604, 15.40540541,\n",
              "        15.77477477, 16.14414414, 16.51351351, 16.88288288, 17.25225225,\n",
              "        17.62162162, 17.99099099, 18.36036036, 18.72972973, 19.0990991 ,\n",
              "        19.46846847, 19.83783784, 20.20720721, 20.57657658, 20.94594595,\n",
              "        21.31531532, 21.68468468, 22.05405405, 22.42342342, 22.79279279,\n",
              "        23.16216216, 23.53153153, 23.9009009 , 24.27027027, 24.63963964,\n",
              "        25.00900901, 25.37837838, 25.74774775, 26.11711712, 26.48648649,\n",
              "        26.85585586, 27.22522523, 27.59459459, 27.96396396, 28.33333333,\n",
              "        28.7027027 , 29.07207207, 29.44144144, 29.81081081, 30.18018018,\n",
              "        30.54954955, 30.91891892, 31.28828829, 31.65765766, 32.02702703,\n",
              "        32.3963964 , 32.76576577, 33.13513514, 33.5045045 , 33.87387387,\n",
              "        34.24324324, 34.61261261, 34.98198198, 35.35135135, 35.72072072,\n",
              "        36.09009009, 36.45945946, 36.82882883, 37.1981982 , 37.56756757,\n",
              "        37.93693694, 38.30630631, 38.67567568, 39.04504505, 39.41441441,\n",
              "        39.78378378, 40.15315315, 40.52252252, 40.89189189, 41.26126126,\n",
              "        41.63063063, 42.        ]),\n",
              " <a list of 111 Patch objects>)"
            ]
          },
          "execution_count": 38,
          "metadata": {},
          "output_type": "execute_result"
        },
        {
          "data": {
            "image/png": "[encoded data removed]",
            "text/plain": [
              "<Figure size 432x288 with 1 Axes>"
            ]
          },
          "metadata": {
            "needs_background": "light"
          },
          "output_type": "display_data"
        }
      ],
      "source": [
        "positive_removed_punc_words_counts = [len(words) for words in positive_removed_punc_words if len(words) > 0]\n",
        "matplotlib.pyplot.hist(x=positive_removed_punc_words_counts, bins='rice')"
      ]
    },
    {
      "cell_type": "markdown",
      "source": [
        "В негативном корпусе"
      ],
      "metadata": {
        "id": "B6KlUNqpulVq"
      }
    },
    {
      "cell_type": "code",
      "execution_count": null,
      "metadata": {
        "colab": {
          "base_uri": "https://localhost:8080/",
          "height": 1000
        },
        "id": "zQOoZ1adLAcr",
        "outputId": "54287319-25e4-4269-cabd-2d1aa293ac14",
        "scrolled": true
      },
      "outputs": [
        {
          "data": {
            "text/plain": [
              "(array([4.9680e+03, 0.0000e+00, 6.4830e+03, 0.0000e+00, 0.0000e+00,\n",
              "        8.0640e+03, 0.0000e+00, 0.0000e+00, 1.0562e+04, 0.0000e+00,\n",
              "        0.0000e+00, 1.0793e+04, 0.0000e+00, 0.0000e+00, 1.2352e+04,\n",
              "        0.0000e+00, 0.0000e+00, 1.4327e+04, 0.0000e+00, 0.0000e+00,\n",
              "        1.4500e+04, 0.0000e+00, 0.0000e+00, 1.2616e+04, 0.0000e+00,\n",
              "        0.0000e+00, 1.0719e+04, 0.0000e+00, 0.0000e+00, 8.8720e+03,\n",
              "        0.0000e+00, 0.0000e+00, 7.4200e+03, 0.0000e+00, 0.0000e+00,\n",
              "        6.1270e+03, 0.0000e+00, 4.9440e+03, 0.0000e+00, 0.0000e+00,\n",
              "        4.0810e+03, 0.0000e+00, 0.0000e+00, 3.3220e+03, 0.0000e+00,\n",
              "        0.0000e+00, 2.8040e+03, 0.0000e+00, 0.0000e+00, 2.4650e+03,\n",
              "        0.0000e+00, 0.0000e+00, 2.0030e+03, 0.0000e+00, 0.0000e+00,\n",
              "        1.7460e+03, 0.0000e+00, 0.0000e+00, 1.3720e+03, 0.0000e+00,\n",
              "        0.0000e+00, 1.0930e+03, 0.0000e+00, 0.0000e+00, 8.4500e+02,\n",
              "        0.0000e+00, 0.0000e+00, 6.5500e+02, 0.0000e+00, 0.0000e+00,\n",
              "        4.5800e+02, 0.0000e+00, 2.4500e+02, 0.0000e+00, 0.0000e+00,\n",
              "        1.1700e+02, 0.0000e+00, 0.0000e+00, 7.0000e+01, 0.0000e+00,\n",
              "        0.0000e+00, 3.8000e+01, 0.0000e+00, 0.0000e+00, 8.0000e+00,\n",
              "        0.0000e+00, 0.0000e+00, 3.0000e+00, 0.0000e+00, 0.0000e+00,\n",
              "        0.0000e+00, 0.0000e+00, 0.0000e+00, 1.0000e+00, 0.0000e+00,\n",
              "        0.0000e+00, 0.0000e+00, 0.0000e+00, 0.0000e+00, 0.0000e+00,\n",
              "        0.0000e+00, 0.0000e+00, 1.0000e+00, 0.0000e+00, 0.0000e+00,\n",
              "        0.0000e+00, 0.0000e+00, 1.0000e+00]),\n",
              " array([ 1.        ,  1.34259259,  1.68518519,  2.02777778,  2.37037037,\n",
              "         2.71296296,  3.05555556,  3.39814815,  3.74074074,  4.08333333,\n",
              "         4.42592593,  4.76851852,  5.11111111,  5.4537037 ,  5.7962963 ,\n",
              "         6.13888889,  6.48148148,  6.82407407,  7.16666667,  7.50925926,\n",
              "         7.85185185,  8.19444444,  8.53703704,  8.87962963,  9.22222222,\n",
              "         9.56481481,  9.90740741, 10.25      , 10.59259259, 10.93518519,\n",
              "        11.27777778, 11.62037037, 11.96296296, 12.30555556, 12.64814815,\n",
              "        12.99074074, 13.33333333, 13.67592593, 14.01851852, 14.36111111,\n",
              "        14.7037037 , 15.0462963 , 15.38888889, 15.73148148, 16.07407407,\n",
              "        16.41666667, 16.75925926, 17.10185185, 17.44444444, 17.78703704,\n",
              "        18.12962963, 18.47222222, 18.81481481, 19.15740741, 19.5       ,\n",
              "        19.84259259, 20.18518519, 20.52777778, 20.87037037, 21.21296296,\n",
              "        21.55555556, 21.89814815, 22.24074074, 22.58333333, 22.92592593,\n",
              "        23.26851852, 23.61111111, 23.9537037 , 24.2962963 , 24.63888889,\n",
              "        24.98148148, 25.32407407, 25.66666667, 26.00925926, 26.35185185,\n",
              "        26.69444444, 27.03703704, 27.37962963, 27.72222222, 28.06481481,\n",
              "        28.40740741, 28.75      , 29.09259259, 29.43518519, 29.77777778,\n",
              "        30.12037037, 30.46296296, 30.80555556, 31.14814815, 31.49074074,\n",
              "        31.83333333, 32.17592593, 32.51851852, 32.86111111, 33.2037037 ,\n",
              "        33.5462963 , 33.88888889, 34.23148148, 34.57407407, 34.91666667,\n",
              "        35.25925926, 35.60185185, 35.94444444, 36.28703704, 36.62962963,\n",
              "        36.97222222, 37.31481481, 37.65740741, 38.        ]),\n",
              " <a list of 108 Patch objects>)"
            ]
          },
          "execution_count": 39,
          "metadata": {},
          "output_type": "execute_result"
        },
        {
          "data": {
            "image/png": "[encoded data removed]",
            "text/plain": [
              "<Figure size 432x288 with 1 Axes>"
            ]
          },
          "metadata": {
            "needs_background": "light"
          },
          "output_type": "display_data"
        }
      ],
      "source": [
        "negative_removed_punc_words_counts = [len(words) for words in negative_removed_punc_words if len(words) > 0]\n",
        "matplotlib.pyplot.hist(x=negative_removed_punc_words_counts, bins='rice')"
      ]
    },
    {
      "cell_type": "markdown",
      "source": [
        "# Вывод"
      ],
      "metadata": {
        "id": "RD77OmBDvF73"
      }
    },
    {
      "cell_type": "markdown",
      "source": [
        "В данной лабораторной работе были рассмотрены способы обоработки текста (нормализация, токенизация, очистка текста) и приведение статистики об обучающих данных."
      ],
      "metadata": {
        "id": "PV51DZ7FvHaZ"
      }
    }
  ],
  "metadata": {
    "colab": {
      "collapsed_sections": [
        "n1o2IsapvdYV",
        "KCKfb5cE3i_w",
        "cRSGnnWt421q",
        "Wb2I8AWz6aJf",
        "yeT2i7dCDIcs",
        "k1cxH76hF1HV",
        "rbLg2JS_JbS4"
      ],
      "provenance": [],
      "include_colab_link": true
    },
    "kernelspec": {
      "display_name": "Python 3 (ipykernel)",
      "language": "python",
      "name": "python3"
    },
    "language_info": {
      "codemirror_mode": {
        "name": "ipython",
        "version": 3
      },
      "file_extension": ".py",
      "mimetype": "text/x-python",
      "name": "python",
      "nbconvert_exporter": "python",
      "pygments_lexer": "ipython3",
      "version": "3.9.7"
    }
  },
  "nbformat": 4,
  "nbformat_minor": 0
}